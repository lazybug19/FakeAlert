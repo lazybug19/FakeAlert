{
  "cells": [
    {
      "cell_type": "markdown",
      "metadata": {
        "id": "view-in-github",
        "colab_type": "text"
      },
      "source": [
        "<a href=\"https://colab.research.google.com/github/lazybug19/fake-news-detection/blob/main/fakenews.ipynb\" target=\"_parent\"><img src=\"https://colab.research.google.com/assets/colab-badge.svg\" alt=\"Open In Colab\"/></a>"
      ]
    },
    {
      "cell_type": "markdown",
      "id": "7c547c15",
      "metadata": {
        "papermill": {
          "duration": 0.0108,
          "end_time": "2024-06-12T15:34:12.520123",
          "exception": false,
          "start_time": "2024-06-12T15:34:12.509323",
          "status": "completed"
        },
        "tags": [],
        "id": "7c547c15"
      },
      "source": [
        "# Importing Libraries"
      ]
    },
    {
      "cell_type": "code",
      "execution_count": 17,
      "id": "41373be2",
      "metadata": {
        "_cell_guid": "b1076dfc-b9ad-4769-8c92-a6c4dae69d19",
        "_uuid": "8f2839f25d086af736a60e9eeb907d3b93b6e0e5",
        "execution": {
          "iopub.execute_input": "2024-06-12T15:34:12.542083Z",
          "iopub.status.busy": "2024-06-12T15:34:12.541625Z",
          "iopub.status.idle": "2024-06-12T15:34:16.805794Z",
          "shell.execute_reply": "2024-06-12T15:34:16.804651Z"
        },
        "papermill": {
          "duration": 4.278338,
          "end_time": "2024-06-12T15:34:16.808505",
          "exception": false,
          "start_time": "2024-06-12T15:34:12.530167",
          "status": "completed"
        },
        "tags": [],
        "id": "41373be2"
      },
      "outputs": [],
      "source": [
        "import numpy as np\n",
        "import pandas as pd\n",
        "import matplotlib.pyplot as plt\n",
        "import seaborn as sns\n",
        "import re\n",
        "import string\n",
        "\n",
        "from sklearn.preprocessing import LabelEncoder\n",
        "from sklearn.utils import shuffle\n",
        "from nltk.corpus import stopwords\n",
        "from nltk.stem.porter import PorterStemmer\n",
        "from collections import Counter\n",
        "from nltk.tokenize import word_tokenize\n",
        "from imblearn.over_sampling import SMOTE\n",
        "from sklearn.feature_extraction.text import TfidfVectorizer\n",
        "\n",
        "from sklearn.model_selection import train_test_split, GridSearchCV\n",
        "from sklearn.linear_model import ElasticNet\n",
        "from sklearn.metrics import mean_squared_error\n",
        "from sklearn.discriminant_analysis import LinearDiscriminantAnalysis\n",
        "from sklearn.ensemble import GradientBoostingClassifier, RandomForestClassifier, VotingClassifier\n",
        "from sklearn.linear_model import LogisticRegression\n",
        "from sklearn.naive_bayes import GaussianNB\n",
        "from xgboost import XGBClassifier\n",
        "from sklearn.metrics import accuracy_score, confusion_matrix\n",
        "from bayes_opt import BayesianOptimization\n",
        "from sklearn.model_selection import cross_val_score"
      ]
    },
    {
      "cell_type": "markdown",
      "id": "f52c5d39",
      "metadata": {
        "papermill": {
          "duration": 0.009889,
          "end_time": "2024-06-12T15:34:16.828731",
          "exception": false,
          "start_time": "2024-06-12T15:34:16.818842",
          "status": "completed"
        },
        "tags": [],
        "id": "f52c5d39"
      },
      "source": [
        "# Pre-defined Functions"
      ]
    },
    {
      "cell_type": "code",
      "execution_count": 5,
      "id": "ebbc6d08",
      "metadata": {
        "execution": {
          "iopub.execute_input": "2024-06-12T15:34:16.851037Z",
          "iopub.status.busy": "2024-06-12T15:34:16.850424Z",
          "iopub.status.idle": "2024-06-12T15:34:16.864218Z",
          "shell.execute_reply": "2024-06-12T15:34:16.862810Z"
        },
        "papermill": {
          "duration": 0.028244,
          "end_time": "2024-06-12T15:34:16.867039",
          "exception": false,
          "start_time": "2024-06-12T15:34:16.838795",
          "status": "completed"
        },
        "tags": [],
        "id": "ebbc6d08"
      },
      "outputs": [],
      "source": [
        "def precision(actual, predicted):\n",
        "    # Precision = True pos out of the actual results\n",
        "    TP = np.count_nonzero(np.logical_and((actual == 1) , (predicted == 1)).astype(int))\n",
        "    FP = np.count_nonzero(np.logical_and((actual == 0) , (predicted == 1)).astype(int))\n",
        "    return TP/(TP + FP)\n",
        "\n",
        "def recall(actual, predicted):\n",
        "    # Recall = True pos out of the predicted results\n",
        "    TP = np.count_nonzero(np.logical_and((actual == 1) , (predicted == 1)).astype(int))\n",
        "    FN = np.count_nonzero(np.logical_and((actual == 1) , (predicted == 0)).astype(int))\n",
        "    return TP/(TP + FN)\n",
        "\n",
        "def f_score(actual , predicted):\n",
        "    P = precision(actual, predicted)\n",
        "    R = recall(actual, predicted)\n",
        "    return 2*P*R/(P + R)\n",
        "\n",
        "def textPreprocess(text):\n",
        "    text = str(text)\n",
        "    text = text.lower()\n",
        "    text = re.sub('\\[.*?\\]','',text)\n",
        "    text = re.sub(\"\\\\W\",\" \",text)\n",
        "    text = re.sub('https?://\\S+|www\\.\\S+','',text)\n",
        "    text = re.sub('<.*?>+',b'',text)\n",
        "    text = re.sub('[^a-zA-Z]', ' ', text)\n",
        "    return text"
      ]
    },
    {
      "cell_type": "markdown",
      "id": "649513e4",
      "metadata": {
        "papermill": {
          "duration": 0.010732,
          "end_time": "2024-06-12T15:34:16.887969",
          "exception": false,
          "start_time": "2024-06-12T15:34:16.877237",
          "status": "completed"
        },
        "tags": [],
        "id": "649513e4"
      },
      "source": [
        "# Data Preprocessing"
      ]
    },
    {
      "cell_type": "code",
      "execution_count": 7,
      "id": "01d452c4",
      "metadata": {
        "execution": {
          "iopub.execute_input": "2024-06-12T15:34:16.910616Z",
          "iopub.status.busy": "2024-06-12T15:34:16.910198Z",
          "iopub.status.idle": "2024-06-12T15:34:17.303952Z",
          "shell.execute_reply": "2024-06-12T15:34:17.302780Z"
        },
        "papermill": {
          "duration": 0.408946,
          "end_time": "2024-06-12T15:34:17.307149",
          "exception": false,
          "start_time": "2024-06-12T15:34:16.898203",
          "status": "completed"
        },
        "tags": [],
        "id": "01d452c4",
        "outputId": "18c8049a-983d-4b50-b72b-f31ee1ccb9db",
        "colab": {
          "base_uri": "https://localhost:8080/",
          "height": 536
        }
      },
      "outputs": [
        {
          "output_type": "execute_result",
          "data": {
            "text/plain": [
              "      index                                               URLs  \\\n",
              "2992   2992  https://www.reuters.com/article/us-brazil-corr...   \n",
              "2476   2476  https://www.reuters.com/article/us-usa-trump-e...   \n",
              "1515   1515  http://beforeitsnews.com/u-s-politics/2017/09/...   \n",
              "1389   1389  http://www.cnn.com/2017/10/11/us/california-fi...   \n",
              "1402   1402  http://beforeitsnews.com/u-s-politics/2017/10/...   \n",
              "2245   2245  http://beforeitsnews.com/u-s-politics/2017/10/...   \n",
              "3247   3247  https://www.nytimes.com/2017/10/07/world/europ...   \n",
              "1615   1615  https://www.activistpost.com/2017/09/false-arr...   \n",
              "2312   2312  http://beforeitsnews.com/sports/2017/09/bucs-f...   \n",
              "993     993  http://beforeitsnews.com/sports/2017/09/alex-c...   \n",
              "\n",
              "                                               Headline  \\\n",
              "2992  Brazil Olympic committee chief resigns amid br...   \n",
              "2476  Eminem rebukes 'racist' Donald Trump in awards...   \n",
              "1515  Racist Teacher To Student: 'Go Back Where You ...   \n",
              "1389  California fires: At least 23 dead as hundreds...   \n",
              "1402  After Alleged 'Moron' Remark, Tillerson Stroke...   \n",
              "2245  King Salman’s Favorite Golden Escalator Betray...   \n",
              "3247  Amid Catalan Crisis, Thousands Hold Rallies in...   \n",
              "1615  35 False Matches and 1 Erroneous Arrest As Pol...   \n",
              "2312       Bucs Finish Up Homestand on Winning Note 5-3   \n",
              "993                         Alex Collins Worth a Start?   \n",
              "\n",
              "                                                   Body  Label  \n",
              "2992  FILE PHOTO: President of Brazil's Olympic Comm...      1  \n",
              "2476  (Reuters) - Rapper Eminem derided U.S. Preside...      1  \n",
              "1515  Racist Teacher To Student: 'Go Back Where You ...      0  \n",
              "1389  (CNN) In some areas in Sonoma County, the wild...      1  \n",
              "1402  Vietnam Is in Great Danger, You Must Publish a...      0  \n",
              "2245  A Potato Battery Can Light up a Room for Over ...      0  \n",
              "3247  The vote, which had been declared illegal by t...      1  \n",
              "1615  By Nicholas West\\nAll things biometric are swe...      0  \n",
              "2312  Bucs Finish Up Homestand on Winning Note 5-3\\n...      0  \n",
              "993   Alex Collins Worth a Start?\\n% of readers thin...      0  "
            ],
            "text/html": [
              "\n",
              "  <div id=\"df-1b77f10a-8432-4c18-b2c1-698f8bca42ea\" class=\"colab-df-container\">\n",
              "    <div>\n",
              "<style scoped>\n",
              "    .dataframe tbody tr th:only-of-type {\n",
              "        vertical-align: middle;\n",
              "    }\n",
              "\n",
              "    .dataframe tbody tr th {\n",
              "        vertical-align: top;\n",
              "    }\n",
              "\n",
              "    .dataframe thead th {\n",
              "        text-align: right;\n",
              "    }\n",
              "</style>\n",
              "<table border=\"1\" class=\"dataframe\">\n",
              "  <thead>\n",
              "    <tr style=\"text-align: right;\">\n",
              "      <th></th>\n",
              "      <th>index</th>\n",
              "      <th>URLs</th>\n",
              "      <th>Headline</th>\n",
              "      <th>Body</th>\n",
              "      <th>Label</th>\n",
              "    </tr>\n",
              "  </thead>\n",
              "  <tbody>\n",
              "    <tr>\n",
              "      <th>2992</th>\n",
              "      <td>2992</td>\n",
              "      <td>https://www.reuters.com/article/us-brazil-corr...</td>\n",
              "      <td>Brazil Olympic committee chief resigns amid br...</td>\n",
              "      <td>FILE PHOTO: President of Brazil's Olympic Comm...</td>\n",
              "      <td>1</td>\n",
              "    </tr>\n",
              "    <tr>\n",
              "      <th>2476</th>\n",
              "      <td>2476</td>\n",
              "      <td>https://www.reuters.com/article/us-usa-trump-e...</td>\n",
              "      <td>Eminem rebukes 'racist' Donald Trump in awards...</td>\n",
              "      <td>(Reuters) - Rapper Eminem derided U.S. Preside...</td>\n",
              "      <td>1</td>\n",
              "    </tr>\n",
              "    <tr>\n",
              "      <th>1515</th>\n",
              "      <td>1515</td>\n",
              "      <td>http://beforeitsnews.com/u-s-politics/2017/09/...</td>\n",
              "      <td>Racist Teacher To Student: 'Go Back Where You ...</td>\n",
              "      <td>Racist Teacher To Student: 'Go Back Where You ...</td>\n",
              "      <td>0</td>\n",
              "    </tr>\n",
              "    <tr>\n",
              "      <th>1389</th>\n",
              "      <td>1389</td>\n",
              "      <td>http://www.cnn.com/2017/10/11/us/california-fi...</td>\n",
              "      <td>California fires: At least 23 dead as hundreds...</td>\n",
              "      <td>(CNN) In some areas in Sonoma County, the wild...</td>\n",
              "      <td>1</td>\n",
              "    </tr>\n",
              "    <tr>\n",
              "      <th>1402</th>\n",
              "      <td>1402</td>\n",
              "      <td>http://beforeitsnews.com/u-s-politics/2017/10/...</td>\n",
              "      <td>After Alleged 'Moron' Remark, Tillerson Stroke...</td>\n",
              "      <td>Vietnam Is in Great Danger, You Must Publish a...</td>\n",
              "      <td>0</td>\n",
              "    </tr>\n",
              "    <tr>\n",
              "      <th>2245</th>\n",
              "      <td>2245</td>\n",
              "      <td>http://beforeitsnews.com/u-s-politics/2017/10/...</td>\n",
              "      <td>King Salman’s Favorite Golden Escalator Betray...</td>\n",
              "      <td>A Potato Battery Can Light up a Room for Over ...</td>\n",
              "      <td>0</td>\n",
              "    </tr>\n",
              "    <tr>\n",
              "      <th>3247</th>\n",
              "      <td>3247</td>\n",
              "      <td>https://www.nytimes.com/2017/10/07/world/europ...</td>\n",
              "      <td>Amid Catalan Crisis, Thousands Hold Rallies in...</td>\n",
              "      <td>The vote, which had been declared illegal by t...</td>\n",
              "      <td>1</td>\n",
              "    </tr>\n",
              "    <tr>\n",
              "      <th>1615</th>\n",
              "      <td>1615</td>\n",
              "      <td>https://www.activistpost.com/2017/09/false-arr...</td>\n",
              "      <td>35 False Matches and 1 Erroneous Arrest As Pol...</td>\n",
              "      <td>By Nicholas West\\nAll things biometric are swe...</td>\n",
              "      <td>0</td>\n",
              "    </tr>\n",
              "    <tr>\n",
              "      <th>2312</th>\n",
              "      <td>2312</td>\n",
              "      <td>http://beforeitsnews.com/sports/2017/09/bucs-f...</td>\n",
              "      <td>Bucs Finish Up Homestand on Winning Note 5-3</td>\n",
              "      <td>Bucs Finish Up Homestand on Winning Note 5-3\\n...</td>\n",
              "      <td>0</td>\n",
              "    </tr>\n",
              "    <tr>\n",
              "      <th>993</th>\n",
              "      <td>993</td>\n",
              "      <td>http://beforeitsnews.com/sports/2017/09/alex-c...</td>\n",
              "      <td>Alex Collins Worth a Start?</td>\n",
              "      <td>Alex Collins Worth a Start?\\n% of readers thin...</td>\n",
              "      <td>0</td>\n",
              "    </tr>\n",
              "  </tbody>\n",
              "</table>\n",
              "</div>\n",
              "    <div class=\"colab-df-buttons\">\n",
              "\n",
              "  <div class=\"colab-df-container\">\n",
              "    <button class=\"colab-df-convert\" onclick=\"convertToInteractive('df-1b77f10a-8432-4c18-b2c1-698f8bca42ea')\"\n",
              "            title=\"Convert this dataframe to an interactive table.\"\n",
              "            style=\"display:none;\">\n",
              "\n",
              "  <svg xmlns=\"http://www.w3.org/2000/svg\" height=\"24px\" viewBox=\"0 -960 960 960\">\n",
              "    <path d=\"M120-120v-720h720v720H120Zm60-500h600v-160H180v160Zm220 220h160v-160H400v160Zm0 220h160v-160H400v160ZM180-400h160v-160H180v160Zm440 0h160v-160H620v160ZM180-180h160v-160H180v160Zm440 0h160v-160H620v160Z\"/>\n",
              "  </svg>\n",
              "    </button>\n",
              "\n",
              "  <style>\n",
              "    .colab-df-container {\n",
              "      display:flex;\n",
              "      gap: 12px;\n",
              "    }\n",
              "\n",
              "    .colab-df-convert {\n",
              "      background-color: #E8F0FE;\n",
              "      border: none;\n",
              "      border-radius: 50%;\n",
              "      cursor: pointer;\n",
              "      display: none;\n",
              "      fill: #1967D2;\n",
              "      height: 32px;\n",
              "      padding: 0 0 0 0;\n",
              "      width: 32px;\n",
              "    }\n",
              "\n",
              "    .colab-df-convert:hover {\n",
              "      background-color: #E2EBFA;\n",
              "      box-shadow: 0px 1px 2px rgba(60, 64, 67, 0.3), 0px 1px 3px 1px rgba(60, 64, 67, 0.15);\n",
              "      fill: #174EA6;\n",
              "    }\n",
              "\n",
              "    .colab-df-buttons div {\n",
              "      margin-bottom: 4px;\n",
              "    }\n",
              "\n",
              "    [theme=dark] .colab-df-convert {\n",
              "      background-color: #3B4455;\n",
              "      fill: #D2E3FC;\n",
              "    }\n",
              "\n",
              "    [theme=dark] .colab-df-convert:hover {\n",
              "      background-color: #434B5C;\n",
              "      box-shadow: 0px 1px 3px 1px rgba(0, 0, 0, 0.15);\n",
              "      filter: drop-shadow(0px 1px 2px rgba(0, 0, 0, 0.3));\n",
              "      fill: #FFFFFF;\n",
              "    }\n",
              "  </style>\n",
              "\n",
              "    <script>\n",
              "      const buttonEl =\n",
              "        document.querySelector('#df-1b77f10a-8432-4c18-b2c1-698f8bca42ea button.colab-df-convert');\n",
              "      buttonEl.style.display =\n",
              "        google.colab.kernel.accessAllowed ? 'block' : 'none';\n",
              "\n",
              "      async function convertToInteractive(key) {\n",
              "        const element = document.querySelector('#df-1b77f10a-8432-4c18-b2c1-698f8bca42ea');\n",
              "        const dataTable =\n",
              "          await google.colab.kernel.invokeFunction('convertToInteractive',\n",
              "                                                    [key], {});\n",
              "        if (!dataTable) return;\n",
              "\n",
              "        const docLinkHtml = 'Like what you see? Visit the ' +\n",
              "          '<a target=\"_blank\" href=https://colab.research.google.com/notebooks/data_table.ipynb>data table notebook</a>'\n",
              "          + ' to learn more about interactive tables.';\n",
              "        element.innerHTML = '';\n",
              "        dataTable['output_type'] = 'display_data';\n",
              "        await google.colab.output.renderOutput(dataTable, element);\n",
              "        const docLink = document.createElement('div');\n",
              "        docLink.innerHTML = docLinkHtml;\n",
              "        element.appendChild(docLink);\n",
              "      }\n",
              "    </script>\n",
              "  </div>\n",
              "\n",
              "\n",
              "<div id=\"df-10205b6e-815b-4f4e-a938-35edf1e29f42\">\n",
              "  <button class=\"colab-df-quickchart\" onclick=\"quickchart('df-10205b6e-815b-4f4e-a938-35edf1e29f42')\"\n",
              "            title=\"Suggest charts\"\n",
              "            style=\"display:none;\">\n",
              "\n",
              "<svg xmlns=\"http://www.w3.org/2000/svg\" height=\"24px\"viewBox=\"0 0 24 24\"\n",
              "     width=\"24px\">\n",
              "    <g>\n",
              "        <path d=\"M19 3H5c-1.1 0-2 .9-2 2v14c0 1.1.9 2 2 2h14c1.1 0 2-.9 2-2V5c0-1.1-.9-2-2-2zM9 17H7v-7h2v7zm4 0h-2V7h2v10zm4 0h-2v-4h2v4z\"/>\n",
              "    </g>\n",
              "</svg>\n",
              "  </button>\n",
              "\n",
              "<style>\n",
              "  .colab-df-quickchart {\n",
              "      --bg-color: #E8F0FE;\n",
              "      --fill-color: #1967D2;\n",
              "      --hover-bg-color: #E2EBFA;\n",
              "      --hover-fill-color: #174EA6;\n",
              "      --disabled-fill-color: #AAA;\n",
              "      --disabled-bg-color: #DDD;\n",
              "  }\n",
              "\n",
              "  [theme=dark] .colab-df-quickchart {\n",
              "      --bg-color: #3B4455;\n",
              "      --fill-color: #D2E3FC;\n",
              "      --hover-bg-color: #434B5C;\n",
              "      --hover-fill-color: #FFFFFF;\n",
              "      --disabled-bg-color: #3B4455;\n",
              "      --disabled-fill-color: #666;\n",
              "  }\n",
              "\n",
              "  .colab-df-quickchart {\n",
              "    background-color: var(--bg-color);\n",
              "    border: none;\n",
              "    border-radius: 50%;\n",
              "    cursor: pointer;\n",
              "    display: none;\n",
              "    fill: var(--fill-color);\n",
              "    height: 32px;\n",
              "    padding: 0;\n",
              "    width: 32px;\n",
              "  }\n",
              "\n",
              "  .colab-df-quickchart:hover {\n",
              "    background-color: var(--hover-bg-color);\n",
              "    box-shadow: 0 1px 2px rgba(60, 64, 67, 0.3), 0 1px 3px 1px rgba(60, 64, 67, 0.15);\n",
              "    fill: var(--button-hover-fill-color);\n",
              "  }\n",
              "\n",
              "  .colab-df-quickchart-complete:disabled,\n",
              "  .colab-df-quickchart-complete:disabled:hover {\n",
              "    background-color: var(--disabled-bg-color);\n",
              "    fill: var(--disabled-fill-color);\n",
              "    box-shadow: none;\n",
              "  }\n",
              "\n",
              "  .colab-df-spinner {\n",
              "    border: 2px solid var(--fill-color);\n",
              "    border-color: transparent;\n",
              "    border-bottom-color: var(--fill-color);\n",
              "    animation:\n",
              "      spin 1s steps(1) infinite;\n",
              "  }\n",
              "\n",
              "  @keyframes spin {\n",
              "    0% {\n",
              "      border-color: transparent;\n",
              "      border-bottom-color: var(--fill-color);\n",
              "      border-left-color: var(--fill-color);\n",
              "    }\n",
              "    20% {\n",
              "      border-color: transparent;\n",
              "      border-left-color: var(--fill-color);\n",
              "      border-top-color: var(--fill-color);\n",
              "    }\n",
              "    30% {\n",
              "      border-color: transparent;\n",
              "      border-left-color: var(--fill-color);\n",
              "      border-top-color: var(--fill-color);\n",
              "      border-right-color: var(--fill-color);\n",
              "    }\n",
              "    40% {\n",
              "      border-color: transparent;\n",
              "      border-right-color: var(--fill-color);\n",
              "      border-top-color: var(--fill-color);\n",
              "    }\n",
              "    60% {\n",
              "      border-color: transparent;\n",
              "      border-right-color: var(--fill-color);\n",
              "    }\n",
              "    80% {\n",
              "      border-color: transparent;\n",
              "      border-right-color: var(--fill-color);\n",
              "      border-bottom-color: var(--fill-color);\n",
              "    }\n",
              "    90% {\n",
              "      border-color: transparent;\n",
              "      border-bottom-color: var(--fill-color);\n",
              "    }\n",
              "  }\n",
              "</style>\n",
              "\n",
              "  <script>\n",
              "    async function quickchart(key) {\n",
              "      const quickchartButtonEl =\n",
              "        document.querySelector('#' + key + ' button');\n",
              "      quickchartButtonEl.disabled = true;  // To prevent multiple clicks.\n",
              "      quickchartButtonEl.classList.add('colab-df-spinner');\n",
              "      try {\n",
              "        const charts = await google.colab.kernel.invokeFunction(\n",
              "            'suggestCharts', [key], {});\n",
              "      } catch (error) {\n",
              "        console.error('Error during call to suggestCharts:', error);\n",
              "      }\n",
              "      quickchartButtonEl.classList.remove('colab-df-spinner');\n",
              "      quickchartButtonEl.classList.add('colab-df-quickchart-complete');\n",
              "    }\n",
              "    (() => {\n",
              "      let quickchartButtonEl =\n",
              "        document.querySelector('#df-10205b6e-815b-4f4e-a938-35edf1e29f42 button');\n",
              "      quickchartButtonEl.style.display =\n",
              "        google.colab.kernel.accessAllowed ? 'block' : 'none';\n",
              "    })();\n",
              "  </script>\n",
              "</div>\n",
              "\n",
              "    </div>\n",
              "  </div>\n"
            ],
            "application/vnd.google.colaboratory.intrinsic+json": {
              "type": "dataframe",
              "variable_name": "dataFrame",
              "summary": "{\n  \"name\": \"dataFrame\",\n  \"rows\": 4009,\n  \"fields\": [\n    {\n      \"column\": \"index\",\n      \"properties\": {\n        \"dtype\": \"number\",\n        \"std\": 1157,\n        \"min\": 0,\n        \"max\": 4008,\n        \"num_unique_values\": 4009,\n        \"samples\": [\n          177,\n          2909,\n          476\n        ],\n        \"semantic_type\": \"\",\n        \"description\": \"\"\n      }\n    },\n    {\n      \"column\": \"URLs\",\n      \"properties\": {\n        \"dtype\": \"string\",\n        \"num_unique_values\": 3352,\n        \"samples\": [\n          \"http://www.bbc.com/news/world-us-canada-41564200\\n\",\n          \"http://beforeitsnews.com/sports/2017/10/three-minutes-2702029.html\\n\\n\",\n          \"https://www.activistpost.com/2017/10/tactical-analysis-las-vegas-mass-shooting-incident.html\\r\\n\"\n        ],\n        \"semantic_type\": \"\",\n        \"description\": \"\"\n      }\n    },\n    {\n      \"column\": \"Headline\",\n      \"properties\": {\n        \"dtype\": \"string\",\n        \"num_unique_values\": 2831,\n        \"samples\": [\n          \"Da Vinci portrait of Christ expected to fetch $100 million at auction\",\n          \"Kenya parliament passes controversial election law amendment\",\n          \"Sometimes You Need To Send A Message\"\n        ],\n        \"semantic_type\": \"\",\n        \"description\": \"\"\n      }\n    },\n    {\n      \"column\": \"Body\",\n      \"properties\": {\n        \"dtype\": \"string\",\n        \"num_unique_values\": 2863,\n        \"samples\": [\n          \"Media playback is not supported on this device McGuire stars as Leeds make Grand Final history\\nHow quickly the mighty can fall. And how quickly they can rise again.\\nShortly after Leeds Rhinos had registered a record eighth Grand Final win by beating Castleford Tigers 24-6 on Saturday, Brian McDermott was asked whether it was the best of his four Old Trafford triumphs as Leeds head coach.\\n\\\"I'm not sure about it being the best Grand Final win, but it's the best story,\\\" he replied.\\n\\\"This win is not the coaches' win or the players' win. This win is for the club.\\\"\\nThe reason? For that, you have to start by going back to the 2015 Grand Final.\\nA domestic treble was completed with victory over Wigan, the Rhinos becoming only the second team to achieve the feat in the Super League era - a fitting finale for three club legends, Kevin Sinfield, Jamie Peacock and Kylie Leuluai.\\nStarting again without that experienced trio in 2016 proved even trickier than some onlookers imagined and a wretched run of form early in the season left champions Leeds outside the top eight after 23 games, contemplating the unthinkable.\\n\\\"The media would be asking all sorts of questions and they aren't easy questions to answer,\\\" said McDermott. \\\"Sometimes I'd pinch myself and think: 'Am I really answering questions about relegation?'\\\"\\nThe Qualifiers were negotiated successfully, meaning Leeds would take their place among the elite again in 2017.\\n'Difficult conversations' after thumping at Cas\\nThen came another low point.\\nCastleford thrashed Leeds 66-10 in their fourth match of the season and, in the aftermath, chief executive Gary Hetherington sent out an open letter to supporters.\\n\\\"We are not stubborn enough to believe no change is always the best option,\\\" it read.\\n\\\"This month is an important one with games against Catalans, Wakefield, Huddersfield and Wigan, and at its end we will be in a much better position to make an accurate judgement on the performance of all our players, coaching staff and senior management, including myself.\\\"\\nMcDermott said publicly that he was in agreement with the timing and the content of the letter.\\nHe recalled: \\\"When we got pumped by Cas, I spent all weekend on the phone to Gary.\\n\\\"He was asking what we were were going to do, saying this wasn't good after 2016 and we needed answers - and they're not easy conversations to have.\\n\\\"The board, the fans and people outside the club will have asked questions and wanted answers, but the answer always was to calm down, not flap and hold your nerve.\\n\\\"I had a really difficult conversation with [captain] Danny McGuire as well and I don't think either of us got it right - but the answer was to hold your nerve.\\\"\\nHow did the Rhinos respond? By winning all four of those aforementioned games.\\n\\\"I've said it a few times since I've been at Leeds - all the staff members give you a thumbs up all the time, no matter how bad it gets,\\\" added McDermott, who has been in charge since 2011.\\n\\\"The level of support from everybody at Leeds has been strong this year. That's why the club owns the Grand Final win.\\\"\\n'Strong group' secure Old Trafford success\\nDanny McGuire and Rob Burrow lifted the Super League trophy in their final game for Leeds\\nLeeds ended the season second in Super League, 10 points behind runaway league leaders Cas.\\nHowever, the Rhinos always seem to come good at the end of a campaign - and so it has proved again.\\nIt was far from a classic Grand Final on a wet night in Manchester, but Leeds were the better side and deservedly gave departing veterans Danny McGuire and Rob Burrow the perfect farewell.\\n\\\"We've had so many big moments as a club when we've had to hold our nerve,\\\" said McDermott.\\n\\\"To get the Grand Final is an achievement. To win it - that's when I get lost for words, it's crazy. And not just win it by a wafer-thin margin - I thought we were pretty dominant.\\n\\\"When a group of people go through so many emotions together like we have over the past 18 months, you become a very strong group.\\n\\\"Castleford have been more skilful than us this year, they've put in better shows than us - but I'd question anyone who'd say they've had more commitment than us, certainly towards the back end of the season.\\n\\\"Grand Finals are won on many different facets, and one of them is a sheer bloody-mindedness not to lose.\\\"\",\n          \"Story highlights Deputy Attorney General Rod Rosenstein said technology companies enable criminals with encryption technology\\nNegotiations between law enforcement and industry leaders has not been effective, he said\\nWashington (CNN) A top Justice Department official on Tuesday criticized technology companies that \\\"enable criminals and terrorists\\\" with encryption software and foreshadowed a new government approach to the issue that has increasingly frustrated law enforcement.\\n\\\"When investigations of violent criminal organizations come to a halt because we cannot access a phone, lives may be lost,\\\" Deputy Attorney General Rod Rosenstein said in a speech at the US Naval Academy in Annapolis, Md.\\n\\\"The approach taken in the recent past -- negotiating with technology companies and hoping that they eventually will assist law enforcement out of a sense of civic duty -- is unlikely to work,\\\" he said.\\nThough he did not outline future steps, Rosenstein, seemed to be taking up the mantle of a fight propelled by former FBI Director James Comey in the last administration.\\nReferred to at times as \\\"going dark,\\\" the emergence of encrypted communication channels impenetrable to law enforcement even with proper warrants has proved an unsolvable issue.\\nRead More\",\n          \"FILE PHOTO: A woman looks on clothes for sale at a street market in Rio de Janeiro, Brazil September 6, 2017. REUTERS/Pilar Olivares/File Photo\\nRIO DE JANEIRO (Reuters) - Brazil\\u2019s inflation rate will probably end the year below 3 percent, undershooting the lower bound of the official target range, Planning Minister Dyogo Oliveira said on Monday.\\n\\u201cWe are witnessing a very healthy process of economic recovery in Brazil,\\u201d Oliveira said at an event.\\nReporting by Rodrigo Viga Gaier; Writing by Silvio Cascione; Editing by Chizu Nomiyama\"\n        ],\n        \"semantic_type\": \"\",\n        \"description\": \"\"\n      }\n    },\n    {\n      \"column\": \"Label\",\n      \"properties\": {\n        \"dtype\": \"number\",\n        \"std\": 0,\n        \"min\": 0,\n        \"max\": 1,\n        \"num_unique_values\": 2,\n        \"samples\": [\n          0,\n          1\n        ],\n        \"semantic_type\": \"\",\n        \"description\": \"\"\n      }\n    }\n  ]\n}"
            }
          },
          "metadata": {},
          "execution_count": 7
        }
      ],
      "source": [
        "dataFrame=pd.read_csv('data.csv')\n",
        "\n",
        "dataFrame.dropna()\n",
        "dataFrame.reset_index(inplace=True)\n",
        "dataFrame = shuffle(dataFrame,random_state=20)\n",
        "\n",
        "dataFrame.head(10)"
      ]
    },
    {
      "cell_type": "code",
      "execution_count": 8,
      "id": "a5ba39bb",
      "metadata": {
        "execution": {
          "iopub.execute_input": "2024-06-12T15:34:17.330721Z",
          "iopub.status.busy": "2024-06-12T15:34:17.330271Z",
          "iopub.status.idle": "2024-06-12T15:34:17.349142Z",
          "shell.execute_reply": "2024-06-12T15:34:17.347687Z"
        },
        "papermill": {
          "duration": 0.034171,
          "end_time": "2024-06-12T15:34:17.352108",
          "exception": false,
          "start_time": "2024-06-12T15:34:17.317937",
          "status": "completed"
        },
        "tags": [],
        "id": "a5ba39bb",
        "outputId": "f2fc1eb4-40b8-4023-e032-1248a5ec5ede",
        "colab": {
          "base_uri": "https://localhost:8080/"
        }
      },
      "outputs": [
        {
          "output_type": "stream",
          "name": "stdout",
          "text": [
            "\n",
            "Fake:Real News ratio is 0.8759943846513805\n"
          ]
        },
        {
          "output_type": "execute_result",
          "data": {
            "text/plain": [
              "Label\n",
              "0    2137\n",
              "1    1872\n",
              "Name: count, dtype: int64"
            ]
          },
          "metadata": {},
          "execution_count": 8
        }
      ],
      "source": [
        "value_counts = dataFrame['Label'].value_counts()\n",
        "ratio = value_counts.get(1, 0) / value_counts.get(0, 0)\n",
        "print(\"\\nFake:Real News ratio is\", ratio)\n",
        "dataFrame['Label'].value_counts()"
      ]
    },
    {
      "cell_type": "markdown",
      "id": "758a9e54",
      "metadata": {
        "papermill": {
          "duration": 0.010605,
          "end_time": "2024-06-12T15:34:17.373675",
          "exception": false,
          "start_time": "2024-06-12T15:34:17.363070",
          "status": "completed"
        },
        "tags": [],
        "id": "758a9e54"
      },
      "source": [
        "# Text Analysis"
      ]
    },
    {
      "cell_type": "code",
      "execution_count": 11,
      "id": "038d401f",
      "metadata": {
        "execution": {
          "iopub.execute_input": "2024-06-12T15:34:17.398196Z",
          "iopub.status.busy": "2024-06-12T15:34:17.397767Z",
          "iopub.status.idle": "2024-06-12T15:39:50.958944Z",
          "shell.execute_reply": "2024-06-12T15:39:50.957691Z"
        },
        "papermill": {
          "duration": 333.586988,
          "end_time": "2024-06-12T15:39:50.971860",
          "exception": false,
          "start_time": "2024-06-12T15:34:17.384872",
          "status": "completed"
        },
        "tags": [],
        "id": "038d401f",
        "outputId": "10068399-a816-4dc6-91ea-ff88a131e4eb",
        "colab": {
          "base_uri": "https://localhost:8080/"
        }
      },
      "outputs": [
        {
          "output_type": "stream",
          "name": "stdout",
          "text": [
            "reuter rapper eminem derid u presid donald trump racist reckless leader rap video air tuesday night black entertain televis hip hop award eminem told fan four minut unaccompani vocal must choos whether support presid racism thing fantast eminem rap video tape friday detroit park garag trump previous dismiss accus racism exampl said februari least racist person file photo rapper eminem perform afraid bet award lo angel june reuter mario anzuoni file photo repres white hous immedi respond request comment eminem rap one watch video youtub earli wednesday rap also mention barack obama trump predecessor white hous hillari clinton trump democrat rival last year presidenti elect file photo u rapper eminem perform abu dhabi f grand prix race close concert du arena ya island novemb reuter jumana elheloueh file photo better give obama prop caus got offic kamikaz probabl caus nuclear holocaust eminem rap eminem rebuk trump strong critic nation footbal leagu player kneel nation anthem game gestur form demonstr began last year silent protest polic violenc black peopl get enorm reaction attack nfl focu stead talkin puerto rico gun reform nevada eminem rap refer devast hurrican hit puerto rico last month mass shoot la vega kill peopl oct\n"
          ]
        }
      ],
      "source": [
        "stemmer = PorterStemmer()\n",
        "textList = []\n",
        "preprocessedText = dataFrame['Body'].apply(textPreprocess)\n",
        "\n",
        "for text in preprocessedText:\n",
        "    text = text.split()\n",
        "    text = [stemmer.stem(word) for word in text if word not in stopwords.words('english')]\n",
        "    text = ' '.join(text)\n",
        "    textList.append(text)\n",
        "\n",
        "# Example of the preprocessed text\n",
        "print(textList[1])"
      ]
    },
    {
      "cell_type": "code",
      "source": [],
      "metadata": {
        "id": "fiK5AYte3ee7"
      },
      "id": "fiK5AYte3ee7",
      "execution_count": 22,
      "outputs": []
    },
    {
      "cell_type": "markdown",
      "source": [
        "## TFIDF Text Vectorization and SMOTE Upsampling"
      ],
      "metadata": {
        "id": "2uAQHLfK2K7z"
      },
      "id": "2uAQHLfK2K7z"
    },
    {
      "cell_type": "code",
      "execution_count": 12,
      "id": "a7b069fb",
      "metadata": {
        "execution": {
          "iopub.execute_input": "2024-06-12T15:39:50.996015Z",
          "iopub.status.busy": "2024-06-12T15:39:50.995547Z",
          "iopub.status.idle": "2024-06-12T15:40:02.462319Z",
          "shell.execute_reply": "2024-06-12T15:40:02.460977Z"
        },
        "papermill": {
          "duration": 11.48264,
          "end_time": "2024-06-12T15:40:02.465751",
          "exception": false,
          "start_time": "2024-06-12T15:39:50.983111",
          "status": "completed"
        },
        "tags": [],
        "id": "a7b069fb",
        "outputId": "c72d4afe-c9e7-4063-fef7-e3d3ffdb6789",
        "colab": {
          "base_uri": "https://localhost:8080/"
        }
      },
      "outputs": [
        {
          "output_type": "stream",
          "name": "stdout",
          "text": [
            "(4009, 5000)\n"
          ]
        }
      ],
      "source": [
        "X=dataFrame.drop('Label',axis=1)\n",
        "y=dataFrame['Label']\n",
        "\n",
        "vector=TfidfVectorizer(max_features=5000,ngram_range=(1,3))\n",
        "X=vector.fit_transform(textList).toarray()\n",
        "\n",
        "print(X.shape)"
      ]
    },
    {
      "cell_type": "code",
      "execution_count": 13,
      "id": "b88b5972",
      "metadata": {
        "execution": {
          "iopub.execute_input": "2024-06-12T15:40:02.490682Z",
          "iopub.status.busy": "2024-06-12T15:40:02.490255Z",
          "iopub.status.idle": "2024-06-12T15:40:03.164990Z",
          "shell.execute_reply": "2024-06-12T15:40:03.163514Z"
        },
        "papermill": {
          "duration": 0.690804,
          "end_time": "2024-06-12T15:40:03.167824",
          "exception": false,
          "start_time": "2024-06-12T15:40:02.477020",
          "status": "completed"
        },
        "tags": [],
        "id": "b88b5972"
      },
      "outputs": [],
      "source": [
        "X_train, X_test, y_train, y_test = train_test_split(X, y, test_size=0.3, random_state=42)\n",
        "\n",
        "# Up-sampling minority classes while avoiding overfitting by generating new synthetic examples close to the minority class in feature space.\n",
        "smote = SMOTE(sampling_strategy=1, random_state=42)\n",
        "X_train_resampled, y_train_resampled = smote.fit_resample(X_train, y_train)"
      ]
    },
    {
      "cell_type": "code",
      "source": [
        "# Post smote up-sampling\n",
        "value_counts = y_train_resampled.value_counts()\n",
        "ratio = value_counts.get(1, 0) / value_counts.get(0, 0)\n",
        "print(\"\\nFake:Real News ratio is\", ratio)\n",
        "y_train_resampled.value_counts()"
      ],
      "metadata": {
        "id": "oXkRktvDZFo2",
        "colab": {
          "base_uri": "https://localhost:8080/"
        },
        "outputId": "fbe8eb5d-aece-4f3e-bd40-6a07cc8fde7b"
      },
      "id": "oXkRktvDZFo2",
      "execution_count": 15,
      "outputs": [
        {
          "output_type": "stream",
          "name": "stdout",
          "text": [
            "\n",
            "Fake:Real News ratio is 1.0\n"
          ]
        },
        {
          "output_type": "execute_result",
          "data": {
            "text/plain": [
              "Label\n",
              "0    1509\n",
              "1    1509\n",
              "Name: count, dtype: int64"
            ]
          },
          "metadata": {},
          "execution_count": 15
        }
      ]
    },
    {
      "cell_type": "code",
      "execution_count": 16,
      "id": "e28d2a74",
      "metadata": {
        "execution": {
          "iopub.execute_input": "2024-06-12T15:40:03.191662Z",
          "iopub.status.busy": "2024-06-12T15:40:03.191248Z",
          "iopub.status.idle": "2024-06-12T15:40:03.250779Z",
          "shell.execute_reply": "2024-06-12T15:40:03.249469Z"
        },
        "papermill": {
          "duration": 0.074457,
          "end_time": "2024-06-12T15:40:03.253333",
          "exception": false,
          "start_time": "2024-06-12T15:40:03.178876",
          "status": "completed"
        },
        "tags": [],
        "id": "e28d2a74",
        "outputId": "d45e9794-74bf-44d7-c1b5-95d653503648",
        "colab": {
          "base_uri": "https://localhost:8080/",
          "height": 272
        }
      },
      "outputs": [
        {
          "output_type": "execute_result",
          "data": {
            "text/plain": [
              "   aaron  aaron judg  aaron kesel  aaron rodger   ab  abandon      abc  \\\n",
              "0    0.0         0.0          0.0           0.0  0.0      0.0  0.00000   \n",
              "1    0.0         0.0          0.0           0.0  0.0      0.0  0.00000   \n",
              "2    0.0         0.0          0.0           0.0  0.0      0.0  0.07461   \n",
              "3    0.0         0.0          0.0           0.0  0.0      0.0  0.00000   \n",
              "4    0.0         0.0          0.0           0.0  0.0      0.0  0.00000   \n",
              "\n",
              "   abc news       abe    aberti  ...  yorker  young  younger  youth    youtub  \\\n",
              "0       0.0  0.000000  0.000000  ...     0.0    0.0      0.0    0.0  0.000000   \n",
              "1       0.0  0.000000  0.000000  ...     0.0    0.0      0.0    0.0  0.000000   \n",
              "2       0.0  0.000000  0.000000  ...     0.0    0.0      0.0    0.0  0.000000   \n",
              "3       0.0  0.048286  0.503343  ...     0.0    0.0      0.0    0.0  0.000000   \n",
              "4       0.0  0.000000  0.000000  ...     0.0    0.0      0.0    0.0  0.026363   \n",
              "\n",
              "   zach  zapatista  zealand  zero  zone  \n",
              "0   0.0        0.0      0.0   0.0   0.0  \n",
              "1   0.0        0.0      0.0   0.0   0.0  \n",
              "2   0.0        0.0      0.0   0.0   0.0  \n",
              "3   0.0        0.0      0.0   0.0   0.0  \n",
              "4   0.0        0.0      0.0   0.0   0.0  \n",
              "\n",
              "[5 rows x 5000 columns]"
            ],
            "text/html": [
              "\n",
              "  <div id=\"df-8c79e670-3db8-457e-8383-e30f7c5ce2d5\" class=\"colab-df-container\">\n",
              "    <div>\n",
              "<style scoped>\n",
              "    .dataframe tbody tr th:only-of-type {\n",
              "        vertical-align: middle;\n",
              "    }\n",
              "\n",
              "    .dataframe tbody tr th {\n",
              "        vertical-align: top;\n",
              "    }\n",
              "\n",
              "    .dataframe thead th {\n",
              "        text-align: right;\n",
              "    }\n",
              "</style>\n",
              "<table border=\"1\" class=\"dataframe\">\n",
              "  <thead>\n",
              "    <tr style=\"text-align: right;\">\n",
              "      <th></th>\n",
              "      <th>aaron</th>\n",
              "      <th>aaron judg</th>\n",
              "      <th>aaron kesel</th>\n",
              "      <th>aaron rodger</th>\n",
              "      <th>ab</th>\n",
              "      <th>abandon</th>\n",
              "      <th>abc</th>\n",
              "      <th>abc news</th>\n",
              "      <th>abe</th>\n",
              "      <th>aberti</th>\n",
              "      <th>...</th>\n",
              "      <th>yorker</th>\n",
              "      <th>young</th>\n",
              "      <th>younger</th>\n",
              "      <th>youth</th>\n",
              "      <th>youtub</th>\n",
              "      <th>zach</th>\n",
              "      <th>zapatista</th>\n",
              "      <th>zealand</th>\n",
              "      <th>zero</th>\n",
              "      <th>zone</th>\n",
              "    </tr>\n",
              "  </thead>\n",
              "  <tbody>\n",
              "    <tr>\n",
              "      <th>0</th>\n",
              "      <td>0.0</td>\n",
              "      <td>0.0</td>\n",
              "      <td>0.0</td>\n",
              "      <td>0.0</td>\n",
              "      <td>0.0</td>\n",
              "      <td>0.0</td>\n",
              "      <td>0.00000</td>\n",
              "      <td>0.0</td>\n",
              "      <td>0.000000</td>\n",
              "      <td>0.000000</td>\n",
              "      <td>...</td>\n",
              "      <td>0.0</td>\n",
              "      <td>0.0</td>\n",
              "      <td>0.0</td>\n",
              "      <td>0.0</td>\n",
              "      <td>0.000000</td>\n",
              "      <td>0.0</td>\n",
              "      <td>0.0</td>\n",
              "      <td>0.0</td>\n",
              "      <td>0.0</td>\n",
              "      <td>0.0</td>\n",
              "    </tr>\n",
              "    <tr>\n",
              "      <th>1</th>\n",
              "      <td>0.0</td>\n",
              "      <td>0.0</td>\n",
              "      <td>0.0</td>\n",
              "      <td>0.0</td>\n",
              "      <td>0.0</td>\n",
              "      <td>0.0</td>\n",
              "      <td>0.00000</td>\n",
              "      <td>0.0</td>\n",
              "      <td>0.000000</td>\n",
              "      <td>0.000000</td>\n",
              "      <td>...</td>\n",
              "      <td>0.0</td>\n",
              "      <td>0.0</td>\n",
              "      <td>0.0</td>\n",
              "      <td>0.0</td>\n",
              "      <td>0.000000</td>\n",
              "      <td>0.0</td>\n",
              "      <td>0.0</td>\n",
              "      <td>0.0</td>\n",
              "      <td>0.0</td>\n",
              "      <td>0.0</td>\n",
              "    </tr>\n",
              "    <tr>\n",
              "      <th>2</th>\n",
              "      <td>0.0</td>\n",
              "      <td>0.0</td>\n",
              "      <td>0.0</td>\n",
              "      <td>0.0</td>\n",
              "      <td>0.0</td>\n",
              "      <td>0.0</td>\n",
              "      <td>0.07461</td>\n",
              "      <td>0.0</td>\n",
              "      <td>0.000000</td>\n",
              "      <td>0.000000</td>\n",
              "      <td>...</td>\n",
              "      <td>0.0</td>\n",
              "      <td>0.0</td>\n",
              "      <td>0.0</td>\n",
              "      <td>0.0</td>\n",
              "      <td>0.000000</td>\n",
              "      <td>0.0</td>\n",
              "      <td>0.0</td>\n",
              "      <td>0.0</td>\n",
              "      <td>0.0</td>\n",
              "      <td>0.0</td>\n",
              "    </tr>\n",
              "    <tr>\n",
              "      <th>3</th>\n",
              "      <td>0.0</td>\n",
              "      <td>0.0</td>\n",
              "      <td>0.0</td>\n",
              "      <td>0.0</td>\n",
              "      <td>0.0</td>\n",
              "      <td>0.0</td>\n",
              "      <td>0.00000</td>\n",
              "      <td>0.0</td>\n",
              "      <td>0.048286</td>\n",
              "      <td>0.503343</td>\n",
              "      <td>...</td>\n",
              "      <td>0.0</td>\n",
              "      <td>0.0</td>\n",
              "      <td>0.0</td>\n",
              "      <td>0.0</td>\n",
              "      <td>0.000000</td>\n",
              "      <td>0.0</td>\n",
              "      <td>0.0</td>\n",
              "      <td>0.0</td>\n",
              "      <td>0.0</td>\n",
              "      <td>0.0</td>\n",
              "    </tr>\n",
              "    <tr>\n",
              "      <th>4</th>\n",
              "      <td>0.0</td>\n",
              "      <td>0.0</td>\n",
              "      <td>0.0</td>\n",
              "      <td>0.0</td>\n",
              "      <td>0.0</td>\n",
              "      <td>0.0</td>\n",
              "      <td>0.00000</td>\n",
              "      <td>0.0</td>\n",
              "      <td>0.000000</td>\n",
              "      <td>0.000000</td>\n",
              "      <td>...</td>\n",
              "      <td>0.0</td>\n",
              "      <td>0.0</td>\n",
              "      <td>0.0</td>\n",
              "      <td>0.0</td>\n",
              "      <td>0.026363</td>\n",
              "      <td>0.0</td>\n",
              "      <td>0.0</td>\n",
              "      <td>0.0</td>\n",
              "      <td>0.0</td>\n",
              "      <td>0.0</td>\n",
              "    </tr>\n",
              "  </tbody>\n",
              "</table>\n",
              "<p>5 rows × 5000 columns</p>\n",
              "</div>\n",
              "    <div class=\"colab-df-buttons\">\n",
              "\n",
              "  <div class=\"colab-df-container\">\n",
              "    <button class=\"colab-df-convert\" onclick=\"convertToInteractive('df-8c79e670-3db8-457e-8383-e30f7c5ce2d5')\"\n",
              "            title=\"Convert this dataframe to an interactive table.\"\n",
              "            style=\"display:none;\">\n",
              "\n",
              "  <svg xmlns=\"http://www.w3.org/2000/svg\" height=\"24px\" viewBox=\"0 -960 960 960\">\n",
              "    <path d=\"M120-120v-720h720v720H120Zm60-500h600v-160H180v160Zm220 220h160v-160H400v160Zm0 220h160v-160H400v160ZM180-400h160v-160H180v160Zm440 0h160v-160H620v160ZM180-180h160v-160H180v160Zm440 0h160v-160H620v160Z\"/>\n",
              "  </svg>\n",
              "    </button>\n",
              "\n",
              "  <style>\n",
              "    .colab-df-container {\n",
              "      display:flex;\n",
              "      gap: 12px;\n",
              "    }\n",
              "\n",
              "    .colab-df-convert {\n",
              "      background-color: #E8F0FE;\n",
              "      border: none;\n",
              "      border-radius: 50%;\n",
              "      cursor: pointer;\n",
              "      display: none;\n",
              "      fill: #1967D2;\n",
              "      height: 32px;\n",
              "      padding: 0 0 0 0;\n",
              "      width: 32px;\n",
              "    }\n",
              "\n",
              "    .colab-df-convert:hover {\n",
              "      background-color: #E2EBFA;\n",
              "      box-shadow: 0px 1px 2px rgba(60, 64, 67, 0.3), 0px 1px 3px 1px rgba(60, 64, 67, 0.15);\n",
              "      fill: #174EA6;\n",
              "    }\n",
              "\n",
              "    .colab-df-buttons div {\n",
              "      margin-bottom: 4px;\n",
              "    }\n",
              "\n",
              "    [theme=dark] .colab-df-convert {\n",
              "      background-color: #3B4455;\n",
              "      fill: #D2E3FC;\n",
              "    }\n",
              "\n",
              "    [theme=dark] .colab-df-convert:hover {\n",
              "      background-color: #434B5C;\n",
              "      box-shadow: 0px 1px 3px 1px rgba(0, 0, 0, 0.15);\n",
              "      filter: drop-shadow(0px 1px 2px rgba(0, 0, 0, 0.3));\n",
              "      fill: #FFFFFF;\n",
              "    }\n",
              "  </style>\n",
              "\n",
              "    <script>\n",
              "      const buttonEl =\n",
              "        document.querySelector('#df-8c79e670-3db8-457e-8383-e30f7c5ce2d5 button.colab-df-convert');\n",
              "      buttonEl.style.display =\n",
              "        google.colab.kernel.accessAllowed ? 'block' : 'none';\n",
              "\n",
              "      async function convertToInteractive(key) {\n",
              "        const element = document.querySelector('#df-8c79e670-3db8-457e-8383-e30f7c5ce2d5');\n",
              "        const dataTable =\n",
              "          await google.colab.kernel.invokeFunction('convertToInteractive',\n",
              "                                                    [key], {});\n",
              "        if (!dataTable) return;\n",
              "\n",
              "        const docLinkHtml = 'Like what you see? Visit the ' +\n",
              "          '<a target=\"_blank\" href=https://colab.research.google.com/notebooks/data_table.ipynb>data table notebook</a>'\n",
              "          + ' to learn more about interactive tables.';\n",
              "        element.innerHTML = '';\n",
              "        dataTable['output_type'] = 'display_data';\n",
              "        await google.colab.output.renderOutput(dataTable, element);\n",
              "        const docLink = document.createElement('div');\n",
              "        docLink.innerHTML = docLinkHtml;\n",
              "        element.appendChild(docLink);\n",
              "      }\n",
              "    </script>\n",
              "  </div>\n",
              "\n",
              "\n",
              "<div id=\"df-b201afc1-9c05-4a41-9505-7f6c1c8d58a9\">\n",
              "  <button class=\"colab-df-quickchart\" onclick=\"quickchart('df-b201afc1-9c05-4a41-9505-7f6c1c8d58a9')\"\n",
              "            title=\"Suggest charts\"\n",
              "            style=\"display:none;\">\n",
              "\n",
              "<svg xmlns=\"http://www.w3.org/2000/svg\" height=\"24px\"viewBox=\"0 0 24 24\"\n",
              "     width=\"24px\">\n",
              "    <g>\n",
              "        <path d=\"M19 3H5c-1.1 0-2 .9-2 2v14c0 1.1.9 2 2 2h14c1.1 0 2-.9 2-2V5c0-1.1-.9-2-2-2zM9 17H7v-7h2v7zm4 0h-2V7h2v10zm4 0h-2v-4h2v4z\"/>\n",
              "    </g>\n",
              "</svg>\n",
              "  </button>\n",
              "\n",
              "<style>\n",
              "  .colab-df-quickchart {\n",
              "      --bg-color: #E8F0FE;\n",
              "      --fill-color: #1967D2;\n",
              "      --hover-bg-color: #E2EBFA;\n",
              "      --hover-fill-color: #174EA6;\n",
              "      --disabled-fill-color: #AAA;\n",
              "      --disabled-bg-color: #DDD;\n",
              "  }\n",
              "\n",
              "  [theme=dark] .colab-df-quickchart {\n",
              "      --bg-color: #3B4455;\n",
              "      --fill-color: #D2E3FC;\n",
              "      --hover-bg-color: #434B5C;\n",
              "      --hover-fill-color: #FFFFFF;\n",
              "      --disabled-bg-color: #3B4455;\n",
              "      --disabled-fill-color: #666;\n",
              "  }\n",
              "\n",
              "  .colab-df-quickchart {\n",
              "    background-color: var(--bg-color);\n",
              "    border: none;\n",
              "    border-radius: 50%;\n",
              "    cursor: pointer;\n",
              "    display: none;\n",
              "    fill: var(--fill-color);\n",
              "    height: 32px;\n",
              "    padding: 0;\n",
              "    width: 32px;\n",
              "  }\n",
              "\n",
              "  .colab-df-quickchart:hover {\n",
              "    background-color: var(--hover-bg-color);\n",
              "    box-shadow: 0 1px 2px rgba(60, 64, 67, 0.3), 0 1px 3px 1px rgba(60, 64, 67, 0.15);\n",
              "    fill: var(--button-hover-fill-color);\n",
              "  }\n",
              "\n",
              "  .colab-df-quickchart-complete:disabled,\n",
              "  .colab-df-quickchart-complete:disabled:hover {\n",
              "    background-color: var(--disabled-bg-color);\n",
              "    fill: var(--disabled-fill-color);\n",
              "    box-shadow: none;\n",
              "  }\n",
              "\n",
              "  .colab-df-spinner {\n",
              "    border: 2px solid var(--fill-color);\n",
              "    border-color: transparent;\n",
              "    border-bottom-color: var(--fill-color);\n",
              "    animation:\n",
              "      spin 1s steps(1) infinite;\n",
              "  }\n",
              "\n",
              "  @keyframes spin {\n",
              "    0% {\n",
              "      border-color: transparent;\n",
              "      border-bottom-color: var(--fill-color);\n",
              "      border-left-color: var(--fill-color);\n",
              "    }\n",
              "    20% {\n",
              "      border-color: transparent;\n",
              "      border-left-color: var(--fill-color);\n",
              "      border-top-color: var(--fill-color);\n",
              "    }\n",
              "    30% {\n",
              "      border-color: transparent;\n",
              "      border-left-color: var(--fill-color);\n",
              "      border-top-color: var(--fill-color);\n",
              "      border-right-color: var(--fill-color);\n",
              "    }\n",
              "    40% {\n",
              "      border-color: transparent;\n",
              "      border-right-color: var(--fill-color);\n",
              "      border-top-color: var(--fill-color);\n",
              "    }\n",
              "    60% {\n",
              "      border-color: transparent;\n",
              "      border-right-color: var(--fill-color);\n",
              "    }\n",
              "    80% {\n",
              "      border-color: transparent;\n",
              "      border-right-color: var(--fill-color);\n",
              "      border-bottom-color: var(--fill-color);\n",
              "    }\n",
              "    90% {\n",
              "      border-color: transparent;\n",
              "      border-bottom-color: var(--fill-color);\n",
              "    }\n",
              "  }\n",
              "</style>\n",
              "\n",
              "  <script>\n",
              "    async function quickchart(key) {\n",
              "      const quickchartButtonEl =\n",
              "        document.querySelector('#' + key + ' button');\n",
              "      quickchartButtonEl.disabled = true;  // To prevent multiple clicks.\n",
              "      quickchartButtonEl.classList.add('colab-df-spinner');\n",
              "      try {\n",
              "        const charts = await google.colab.kernel.invokeFunction(\n",
              "            'suggestCharts', [key], {});\n",
              "      } catch (error) {\n",
              "        console.error('Error during call to suggestCharts:', error);\n",
              "      }\n",
              "      quickchartButtonEl.classList.remove('colab-df-spinner');\n",
              "      quickchartButtonEl.classList.add('colab-df-quickchart-complete');\n",
              "    }\n",
              "    (() => {\n",
              "      let quickchartButtonEl =\n",
              "        document.querySelector('#df-b201afc1-9c05-4a41-9505-7f6c1c8d58a9 button');\n",
              "      quickchartButtonEl.style.display =\n",
              "        google.colab.kernel.accessAllowed ? 'block' : 'none';\n",
              "    })();\n",
              "  </script>\n",
              "</div>\n",
              "\n",
              "    </div>\n",
              "  </div>\n"
            ],
            "application/vnd.google.colaboratory.intrinsic+json": {
              "type": "dataframe",
              "variable_name": "count"
            }
          },
          "metadata": {},
          "execution_count": 16
        }
      ],
      "source": [
        "parameters = vector._get_param_names()\n",
        "print\n",
        "count = pd.DataFrame(X_train, columns=vector.get_feature_names_out())\n",
        "count.head()"
      ]
    },
    {
      "cell_type": "markdown",
      "id": "a00caa86",
      "metadata": {
        "papermill": {
          "duration": 0.011183,
          "end_time": "2024-06-12T15:40:03.276286",
          "exception": false,
          "start_time": "2024-06-12T15:40:03.265103",
          "status": "completed"
        },
        "tags": [],
        "id": "a00caa86"
      },
      "source": [
        "# Training models"
      ]
    },
    {
      "cell_type": "markdown",
      "id": "692372e5",
      "metadata": {
        "papermill": {
          "duration": 0.01181,
          "end_time": "2024-06-12T15:40:03.299708",
          "exception": false,
          "start_time": "2024-06-12T15:40:03.287898",
          "status": "completed"
        },
        "tags": [],
        "id": "692372e5"
      },
      "source": [
        "## Ensemble Learning - 1"
      ]
    },
    {
      "cell_type": "code",
      "execution_count": null,
      "id": "88c4d416",
      "metadata": {
        "execution": {
          "iopub.execute_input": "2024-06-12T15:40:03.324888Z",
          "iopub.status.busy": "2024-06-12T15:40:03.324322Z",
          "iopub.status.idle": "2024-06-12T15:40:03.331268Z",
          "shell.execute_reply": "2024-06-12T15:40:03.329739Z"
        },
        "papermill": {
          "duration": 0.022925,
          "end_time": "2024-06-12T15:40:03.334198",
          "exception": false,
          "start_time": "2024-06-12T15:40:03.311273",
          "status": "completed"
        },
        "tags": [],
        "id": "88c4d416"
      },
      "outputs": [],
      "source": [
        "# Base models\n",
        "model1 = XGBClassifier(use_label_encoder=False, eval_metric='logloss')\n",
        "model2 = GaussianNB()\n",
        "model3 = RandomForestClassifier(n_estimators=100, random_state=42)"
      ]
    },
    {
      "cell_type": "code",
      "execution_count": null,
      "id": "6e23118d",
      "metadata": {
        "execution": {
          "iopub.execute_input": "2024-06-12T15:40:03.359849Z",
          "iopub.status.busy": "2024-06-12T15:40:03.358728Z",
          "iopub.status.idle": "2024-06-12T15:40:23.866676Z",
          "shell.execute_reply": "2024-06-12T15:40:23.865323Z"
        },
        "papermill": {
          "duration": 20.523592,
          "end_time": "2024-06-12T15:40:23.869476",
          "exception": false,
          "start_time": "2024-06-12T15:40:03.345884",
          "status": "completed"
        },
        "tags": [],
        "id": "6e23118d"
      },
      "outputs": [],
      "source": [
        "# Max voting ensemble with soft voting\n",
        "ensemble_model1 = VotingClassifier(\n",
        "    estimators=[\n",
        "        ('xgb', model1),\n",
        "        ('nb', model2),\n",
        "        ('rf', model3)\n",
        "    ],\n",
        "    voting='soft'\n",
        ")\n",
        "\n",
        "ensemble_model1.fit(X_train_resampled, y_train_resampled)\n",
        "y_pred = ensemble_model1.predict(X_test)"
      ]
    },
    {
      "cell_type": "code",
      "execution_count": null,
      "id": "3eb2c71a",
      "metadata": {
        "execution": {
          "iopub.execute_input": "2024-06-12T15:40:23.895178Z",
          "iopub.status.busy": "2024-06-12T15:40:23.894218Z",
          "iopub.status.idle": "2024-06-12T15:40:24.075148Z",
          "shell.execute_reply": "2024-06-12T15:40:24.073687Z"
        },
        "papermill": {
          "duration": 0.196755,
          "end_time": "2024-06-12T15:40:24.078025",
          "exception": false,
          "start_time": "2024-06-12T15:40:23.881270",
          "status": "completed"
        },
        "tags": [],
        "id": "3eb2c71a",
        "outputId": "7386674b-9fed-41f6-998e-29fba3344832"
      },
      "outputs": [
        {
          "name": "stdout",
          "output_type": "stream",
          "text": [
            "Accuracy: 0.98\n",
            "F-score: 0.98\n",
            "Precision: 0.97\n",
            "Recall: 0.99\n"
          ]
        },
        {
          "data": {
            "image/png": "[encoded data removed]",
            "text/plain": [
              "<Figure size 600x600 with 1 Axes>"
            ]
          },
          "metadata": {},
          "output_type": "display_data"
        }
      ],
      "source": [
        "# Evaluation metrics\n",
        "accuracy = accuracy_score(y_test, y_pred)\n",
        "fscore = f_score(y_test, y_pred)\n",
        "prec = precision(y_test, y_pred)\n",
        "rec = recall(y_test, y_pred)\n",
        "conf_m = confusion_matrix(y_test, y_pred)\n",
        "print(f'Accuracy: {accuracy:.2f}')\n",
        "print(f'F-score: {fscore:.2f}')\n",
        "print(f'Precision: {prec:.2f}')\n",
        "print(f'Recall: {rec:.2f}')\n",
        "\n",
        "plt.figure(figsize=(6, 6))\n",
        "sns.heatmap(conf_m, annot=True, fmt=\"d\", cmap=\"Blues\", cbar=False, square=True)\n",
        "plt.xlabel(\"Predicted\")\n",
        "plt.ylabel(\"True\")\n",
        "plt.title(\"Confusion Matrix\")\n",
        "plt.show()"
      ]
    },
    {
      "cell_type": "markdown",
      "id": "293b25d5",
      "metadata": {
        "papermill": {
          "duration": 0.011859,
          "end_time": "2024-06-12T15:40:24.102280",
          "exception": false,
          "start_time": "2024-06-12T15:40:24.090421",
          "status": "completed"
        },
        "tags": [],
        "id": "293b25d5"
      },
      "source": [
        "## Ensemble Learning - 2"
      ]
    },
    {
      "cell_type": "code",
      "execution_count": null,
      "id": "6faa0099",
      "metadata": {
        "execution": {
          "iopub.execute_input": "2024-06-12T15:40:24.128994Z",
          "iopub.status.busy": "2024-06-12T15:40:24.127948Z",
          "iopub.status.idle": "2024-06-12T15:40:24.134268Z",
          "shell.execute_reply": "2024-06-12T15:40:24.133057Z"
        },
        "papermill": {
          "duration": 0.022622,
          "end_time": "2024-06-12T15:40:24.137066",
          "exception": false,
          "start_time": "2024-06-12T15:40:24.114444",
          "status": "completed"
        },
        "tags": [],
        "id": "6faa0099"
      },
      "outputs": [],
      "source": [
        "# Base models\n",
        "rf_model = RandomForestClassifier(n_estimators=100, random_state=42)\n",
        "lr_model = LogisticRegression(max_iter=1000, random_state=42)\n",
        "gb_model = GradientBoostingClassifier(n_estimators=100, random_state=42)"
      ]
    },
    {
      "cell_type": "code",
      "execution_count": null,
      "id": "62e9cf94",
      "metadata": {
        "execution": {
          "iopub.execute_input": "2024-06-12T15:40:24.163399Z",
          "iopub.status.busy": "2024-06-12T15:40:24.162945Z",
          "iopub.status.idle": "2024-06-12T15:41:48.536252Z",
          "shell.execute_reply": "2024-06-12T15:41:48.534065Z"
        },
        "papermill": {
          "duration": 84.391586,
          "end_time": "2024-06-12T15:41:48.540946",
          "exception": false,
          "start_time": "2024-06-12T15:40:24.149360",
          "status": "completed"
        },
        "tags": [],
        "id": "62e9cf94"
      },
      "outputs": [],
      "source": [
        "# Max voting ensemble with soft voting\n",
        "ensemble_model2 = VotingClassifier(\n",
        "    estimators=[\n",
        "        ('rf', rf_model),\n",
        "        ('lr', lr_model),\n",
        "        ('gb', gb_model)\n",
        "    ],\n",
        "    voting='soft'\n",
        ")\n",
        "\n",
        "ensemble_model2.fit(X_train_resampled, y_train_resampled)\n",
        "y_pred2 = ensemble_model2.predict(X_test)"
      ]
    },
    {
      "cell_type": "code",
      "execution_count": null,
      "id": "8b9f4821",
      "metadata": {
        "execution": {
          "iopub.execute_input": "2024-06-12T15:41:48.598216Z",
          "iopub.status.busy": "2024-06-12T15:41:48.597485Z",
          "iopub.status.idle": "2024-06-12T15:41:48.752688Z",
          "shell.execute_reply": "2024-06-12T15:41:48.750663Z"
        },
        "papermill": {
          "duration": 0.186875,
          "end_time": "2024-06-12T15:41:48.755402",
          "exception": false,
          "start_time": "2024-06-12T15:41:48.568527",
          "status": "completed"
        },
        "tags": [],
        "id": "8b9f4821",
        "outputId": "55beeb6b-32b6-423e-989f-03e9eb5f26bf"
      },
      "outputs": [
        {
          "name": "stdout",
          "output_type": "stream",
          "text": [
            "Accuracy: 0.99\n",
            "F-score: 0.99\n",
            "Precision: 0.99\n",
            "Recall: 0.99\n"
          ]
        },
        {
          "data": {
            "image/png": "[encoded data removed]",
            "text/plain": [
              "<Figure size 600x600 with 1 Axes>"
            ]
          },
          "metadata": {},
          "output_type": "display_data"
        }
      ],
      "source": [
        "#Evaluation metrics\n",
        "accuracy = accuracy_score(y_test, y_pred2)\n",
        "fscore = f_score(y_test, y_pred2)\n",
        "prec = precision(y_test, y_pred2)\n",
        "rec = recall(y_test, y_pred2)\n",
        "conf_m = confusion_matrix(y_test, y_pred2)\n",
        "print(f'Accuracy: {accuracy:.2f}')\n",
        "print(f'F-score: {fscore:.2f}')\n",
        "print(f'Precision: {prec:.2f}')\n",
        "print(f'Recall: {rec:.2f}')\n",
        "\n",
        "plt.figure(figsize=(6, 6))\n",
        "sns.heatmap(conf_m, annot=True, fmt=\"d\", cmap=\"Blues\", cbar=False, square=True)\n",
        "plt.xlabel(\"Predicted\")\n",
        "plt.ylabel(\"True\")\n",
        "plt.title(\"Confusion Matrix\")\n",
        "plt.show()"
      ]
    },
    {
      "cell_type": "markdown",
      "id": "793e2a41",
      "metadata": {
        "papermill": {
          "duration": 0.013061,
          "end_time": "2024-06-12T15:41:48.781505",
          "exception": false,
          "start_time": "2024-06-12T15:41:48.768444",
          "status": "completed"
        },
        "tags": [],
        "id": "793e2a41"
      },
      "source": [
        "#### Better ensemble model with Logistic Regression + Random Forest + Gradient Boosting"
      ]
    },
    {
      "cell_type": "markdown",
      "id": "d78eabb5",
      "metadata": {
        "papermill": {
          "duration": 0.013164,
          "end_time": "2024-06-12T15:41:48.807087",
          "exception": false,
          "start_time": "2024-06-12T15:41:48.793923",
          "status": "completed"
        },
        "tags": [],
        "id": "d78eabb5"
      },
      "source": [
        "# Hyperparameter Tuning for 2nd Model"
      ]
    },
    {
      "cell_type": "code",
      "execution_count": null,
      "id": "a9318586",
      "metadata": {
        "execution": {
          "iopub.execute_input": "2024-06-12T15:41:48.835328Z",
          "iopub.status.busy": "2024-06-12T15:41:48.834934Z",
          "iopub.status.idle": "2024-06-12T15:41:48.841707Z",
          "shell.execute_reply": "2024-06-12T15:41:48.840515Z"
        },
        "papermill": {
          "duration": 0.024088,
          "end_time": "2024-06-12T15:41:48.844256",
          "exception": false,
          "start_time": "2024-06-12T15:41:48.820168",
          "status": "completed"
        },
        "tags": [],
        "id": "a9318586"
      },
      "outputs": [],
      "source": [
        "# Base models\n",
        "rf = RandomForestClassifier(n_estimators=100, random_state=42)\n",
        "gb = GradientBoostingClassifier(n_estimators=100, random_state=42)\n",
        "lr = LogisticRegression(max_iter=1000, random_state=42)"
      ]
    },
    {
      "cell_type": "markdown",
      "source": [
        "## Bayesian Optimization for RF"
      ],
      "metadata": {
        "id": "GjTTR5lo73Kk"
      },
      "id": "GjTTR5lo73Kk"
    },
    {
      "cell_type": "code",
      "execution_count": null,
      "id": "97dd871d",
      "metadata": {
        "execution": {
          "iopub.execute_input": "2024-06-12T15:41:48.874962Z",
          "iopub.status.busy": "2024-06-12T15:41:48.874537Z",
          "iopub.status.idle": "2024-06-12T16:08:50.276482Z",
          "shell.execute_reply": "2024-06-12T16:08:50.275113Z"
        },
        "papermill": {
          "duration": 1621.435202,
          "end_time": "2024-06-12T16:08:50.292189",
          "exception": false,
          "start_time": "2024-06-12T15:41:48.856987",
          "status": "completed"
        },
        "tags": [],
        "id": "97dd871d",
        "outputId": "9ba47074-0b79-4a64-b5f3-2c4cadf91da3"
      },
      "outputs": [
        {
          "name": "stdout",
          "output_type": "stream",
          "text": [
            "|   iter    |  target   | max_depth | max_fe... | min_sa... | n_esti... |\n",
            "-------------------------------------------------------------------------\n",
            "| \u001b[0m1        \u001b[0m | \u001b[0m0.04175  \u001b[0m | \u001b[0m19.35    \u001b[0m | \u001b[0m0.9547   \u001b[0m | \u001b[0m18.84    \u001b[0m | \u001b[0m153.7    \u001b[0m |\n",
            "| \u001b[0m2        \u001b[0m | \u001b[0m0.03413  \u001b[0m | \u001b[0m8.645    \u001b[0m | \u001b[0m0.2402   \u001b[0m | \u001b[0m3.336    \u001b[0m | \u001b[0m217.9    \u001b[0m |\n",
            "| \u001b[0m3        \u001b[0m | \u001b[0m0.03645  \u001b[0m | \u001b[0m30.45    \u001b[0m | \u001b[0m0.7366   \u001b[0m | \u001b[0m2.473    \u001b[0m | \u001b[0m242.8    \u001b[0m |\n",
            "| \u001b[0m4        \u001b[0m | \u001b[0m0.02916  \u001b[0m | \u001b[0m41.79    \u001b[0m | \u001b[0m0.2909   \u001b[0m | \u001b[0m6.182    \u001b[0m | \u001b[0m54.02    \u001b[0m |\n",
            "| \u001b[0m5        \u001b[0m | \u001b[0m0.03877  \u001b[0m | \u001b[0m15.91    \u001b[0m | \u001b[0m0.5718   \u001b[0m | \u001b[0m11.93    \u001b[0m | \u001b[0m79.89    \u001b[0m |\n",
            "| \u001b[0m6        \u001b[0m | \u001b[0m0.03115  \u001b[0m | \u001b[0m20.09    \u001b[0m | \u001b[0m0.4191   \u001b[0m | \u001b[0m18.76    \u001b[0m | \u001b[0m153.5    \u001b[0m |\n",
            "| \u001b[95m7        \u001b[0m | \u001b[95m0.08648  \u001b[0m | \u001b[95m3.412    \u001b[0m | \u001b[95m0.1166   \u001b[0m | \u001b[95m15.81    \u001b[0m | \u001b[95m183.7    \u001b[0m |\n",
            "| \u001b[0m8        \u001b[0m | \u001b[0m0.08217  \u001b[0m | \u001b[0m3.784    \u001b[0m | \u001b[0m0.1      \u001b[0m | \u001b[0m15.13    \u001b[0m | \u001b[0m182.6    \u001b[0m |\n",
            "| \u001b[0m9        \u001b[0m | \u001b[0m0.06594  \u001b[0m | \u001b[0m5.972    \u001b[0m | \u001b[0m0.5506   \u001b[0m | \u001b[0m15.86    \u001b[0m | \u001b[0m185.4    \u001b[0m |\n",
            "| \u001b[95m10       \u001b[0m | \u001b[95m0.217    \u001b[0m | \u001b[95m1.135    \u001b[0m | \u001b[95m0.4694   \u001b[0m | \u001b[95m15.51    \u001b[0m | \u001b[95m185.9    \u001b[0m |\n",
            "| \u001b[0m11       \u001b[0m | \u001b[0m0.1471   \u001b[0m | \u001b[0m2.295    \u001b[0m | \u001b[0m0.5123   \u001b[0m | \u001b[0m13.45    \u001b[0m | \u001b[0m186.4    \u001b[0m |\n",
            "| \u001b[95m12       \u001b[0m | \u001b[95m0.224    \u001b[0m | \u001b[95m1.414    \u001b[0m | \u001b[95m0.5098   \u001b[0m | \u001b[95m17.24    \u001b[0m | \u001b[95m188.8    \u001b[0m |\n",
            "| \u001b[95m13       \u001b[0m | \u001b[95m0.2389   \u001b[0m | \u001b[95m1.0      \u001b[0m | \u001b[95m0.999    \u001b[0m | \u001b[95m14.78    \u001b[0m | \u001b[95m190.1    \u001b[0m |\n",
            "| \u001b[0m14       \u001b[0m | \u001b[0m0.2154   \u001b[0m | \u001b[0m1.824    \u001b[0m | \u001b[0m0.3401   \u001b[0m | \u001b[0m14.65    \u001b[0m | \u001b[0m195.2    \u001b[0m |\n",
            "| \u001b[95m15       \u001b[0m | \u001b[95m0.2416   \u001b[0m | \u001b[95m1.629    \u001b[0m | \u001b[95m0.1669   \u001b[0m | \u001b[95m20.83    \u001b[0m | \u001b[95m197.7    \u001b[0m |\n",
            "| \u001b[0m16       \u001b[0m | \u001b[0m0.05103  \u001b[0m | \u001b[0m6.268    \u001b[0m | \u001b[0m0.4099   \u001b[0m | \u001b[0m18.88    \u001b[0m | \u001b[0m196.9    \u001b[0m |\n",
            "| \u001b[0m17       \u001b[0m | \u001b[0m0.2237   \u001b[0m | \u001b[0m1.269    \u001b[0m | \u001b[0m0.5003   \u001b[0m | \u001b[0m22.06    \u001b[0m | \u001b[0m193.5    \u001b[0m |\n",
            "| \u001b[0m18       \u001b[0m | \u001b[0m0.2167   \u001b[0m | \u001b[0m1.079    \u001b[0m | \u001b[0m0.478    \u001b[0m | \u001b[0m17.13    \u001b[0m | \u001b[0m204.4    \u001b[0m |\n",
            "| \u001b[0m19       \u001b[0m | \u001b[0m0.2296   \u001b[0m | \u001b[0m1.01     \u001b[0m | \u001b[0m0.6428   \u001b[0m | \u001b[0m24.89    \u001b[0m | \u001b[0m197.2    \u001b[0m |\n",
            "| \u001b[0m20       \u001b[0m | \u001b[0m0.171    \u001b[0m | \u001b[0m2.072    \u001b[0m | \u001b[0m0.8588   \u001b[0m | \u001b[0m24.46    \u001b[0m | \u001b[0m204.5    \u001b[0m |\n",
            "=========================================================================\n"
          ]
        }
      ],
      "source": [
        "# Function to return negative RMSE\n",
        "def optimizationRF(n_estimators, max_depth, min_samples_split, max_features):\n",
        "    model = RandomForestClassifier(n_estimators=int(n_estimators),\n",
        "                                  max_depth=int(max_depth),\n",
        "                                  min_samples_split=int(min_samples_split),\n",
        "                                  max_features=min(max_features, 0.999),\n",
        "                                  random_state=42)\n",
        "\n",
        "    return -1.0 * cross_val_score(model, X_train_resampled, y_train_resampled, cv=3, scoring=\"neg_mean_squared_error\").mean()\n",
        "\n",
        "# Hyperparameters to optimise\n",
        "param_boundsRF = {\n",
        "    'n_estimators': (10, 250),\n",
        "    'max_depth': (1, 50),\n",
        "    'min_samples_split': (2, 25),\n",
        "    'max_features': (0.1, 0.999),\n",
        "}\n",
        "\n",
        "optimizer = BayesianOptimization(f=optimizationRF, pbounds=param_boundsRF, random_state=42)\n",
        "optimizer.maximize(init_points=5, n_iter=15)"
      ]
    },
    {
      "cell_type": "code",
      "execution_count": null,
      "id": "086c99ba",
      "metadata": {
        "execution": {
          "iopub.execute_input": "2024-06-12T16:08:50.323722Z",
          "iopub.status.busy": "2024-06-12T16:08:50.323294Z",
          "iopub.status.idle": "2024-06-12T16:08:50.330723Z",
          "shell.execute_reply": "2024-06-12T16:08:50.329411Z"
        },
        "papermill": {
          "duration": 0.02703,
          "end_time": "2024-06-12T16:08:50.333759",
          "exception": false,
          "start_time": "2024-06-12T16:08:50.306729",
          "status": "completed"
        },
        "tags": [],
        "id": "086c99ba",
        "outputId": "7d5dc6e8-21d3-49cd-9620-f7b80be141bc"
      },
      "outputs": [
        {
          "name": "stdout",
          "output_type": "stream",
          "text": [
            "Best Parameters for RF: {'max_depth': 1.629465525941345, 'max_features': 0.16687546655408142, 'min_samples_split': 20.827521435128666, 'n_estimators': 197.67469510524577}\n"
          ]
        }
      ],
      "source": [
        "# Best hyperparameters\n",
        "best_params = optimizer.max['params']\n",
        "print(\"Best Parameters for RF:\", best_params)\n",
        "\n",
        "# New RandomForestClassifier model with the best hyperparameters\n",
        "rf_best = RandomForestClassifier(n_estimators=int(best_params['n_estimators']),\n",
        "                                   max_depth=int(best_params['max_depth']),\n",
        "                                   min_samples_split=int(best_params['min_samples_split']),\n",
        "                                   max_features=best_params['max_features'],\n",
        "                                   random_state=42)"
      ]
    },
    {
      "cell_type": "markdown",
      "source": [
        "## Bayesian Optimization for GB"
      ],
      "metadata": {
        "id": "2IajlOCB79IN"
      },
      "id": "2IajlOCB79IN"
    },
    {
      "cell_type": "code",
      "execution_count": null,
      "id": "c90208b6",
      "metadata": {
        "execution": {
          "iopub.execute_input": "2024-06-12T16:08:50.432114Z",
          "iopub.status.busy": "2024-06-12T16:08:50.431675Z",
          "iopub.status.idle": "2024-06-12T19:28:24.313578Z",
          "shell.execute_reply": "2024-06-12T19:28:24.311664Z"
        },
        "papermill": {
          "duration": 11973.985808,
          "end_time": "2024-06-12T19:28:24.333974",
          "exception": false,
          "start_time": "2024-06-12T16:08:50.348166",
          "status": "completed"
        },
        "tags": [],
        "id": "c90208b6",
        "outputId": "d74cd357-9d56-4a8f-915b-4ba08ea86380"
      },
      "outputs": [
        {
          "name": "stdout",
          "output_type": "stream",
          "text": [
            "|   iter    |  target   | learni... | max_depth | max_fe... | n_esti... | subsample |\n",
            "-------------------------------------------------------------------------------------\n",
            "| \u001b[0m1        \u001b[0m | \u001b[0m0.9771   \u001b[0m | \u001b[0m0.616    \u001b[0m | \u001b[0m4.183    \u001b[0m | \u001b[0m0.8872   \u001b[0m | \u001b[0m133.8    \u001b[0m | \u001b[0m0.8591   \u001b[0m |\n",
            "| \u001b[0m2        \u001b[0m | \u001b[0m0.9728   \u001b[0m | \u001b[0m0.1577   \u001b[0m | \u001b[0m3.157    \u001b[0m | \u001b[0m0.884    \u001b[0m | \u001b[0m96.71    \u001b[0m | \u001b[0m0.8675   \u001b[0m |\n",
            "| \u001b[0m3        \u001b[0m | \u001b[0m0.9722   \u001b[0m | \u001b[0m0.9908   \u001b[0m | \u001b[0m4.664    \u001b[0m | \u001b[0m0.8162   \u001b[0m | \u001b[0m126.9    \u001b[0m | \u001b[0m0.9242   \u001b[0m |\n",
            "| \u001b[0m4        \u001b[0m | \u001b[0m0.9745   \u001b[0m | \u001b[0m0.2815   \u001b[0m | \u001b[0m6.264    \u001b[0m | \u001b[0m0.8237   \u001b[0m | \u001b[0m85.18    \u001b[0m | \u001b[0m0.9802   \u001b[0m |\n",
            "| \u001b[0m5        \u001b[0m | \u001b[0m0.9718   \u001b[0m | \u001b[0m0.796    \u001b[0m | \u001b[0m8.884    \u001b[0m | \u001b[0m0.963    \u001b[0m | \u001b[0m149.4    \u001b[0m | \u001b[0m0.9155   \u001b[0m |\n",
            "| \u001b[0m6        \u001b[0m | \u001b[0m0.9748   \u001b[0m | \u001b[0m0.8156   \u001b[0m | \u001b[0m5.949    \u001b[0m | \u001b[0m0.8055   \u001b[0m | \u001b[0m111.8    \u001b[0m | \u001b[0m0.8211   \u001b[0m |\n",
            "| \u001b[0m7        \u001b[0m | \u001b[0m0.9768   \u001b[0m | \u001b[0m0.819    \u001b[0m | \u001b[0m7.884    \u001b[0m | \u001b[0m0.9131   \u001b[0m | \u001b[0m99.2     \u001b[0m | \u001b[0m0.9997   \u001b[0m |\n",
            "| \u001b[0m8        \u001b[0m | \u001b[0m0.9728   \u001b[0m | \u001b[0m0.1467   \u001b[0m | \u001b[0m7.308    \u001b[0m | \u001b[0m0.897    \u001b[0m | \u001b[0m108.4    \u001b[0m | \u001b[0m0.9456   \u001b[0m |\n",
            "| \u001b[0m9        \u001b[0m | \u001b[0m0.9765   \u001b[0m | \u001b[0m0.3296   \u001b[0m | \u001b[0m5.804    \u001b[0m | \u001b[0m0.8638   \u001b[0m | \u001b[0m146.3    \u001b[0m | \u001b[0m0.9837   \u001b[0m |\n",
            "| \u001b[0m10       \u001b[0m | \u001b[0m0.9732   \u001b[0m | \u001b[0m0.8157   \u001b[0m | \u001b[0m3.239    \u001b[0m | \u001b[0m0.9887   \u001b[0m | \u001b[0m146.5    \u001b[0m | \u001b[0m0.9613   \u001b[0m |\n",
            "| \u001b[0m11       \u001b[0m | \u001b[0m0.9751   \u001b[0m | \u001b[0m0.4865   \u001b[0m | \u001b[0m9.767    \u001b[0m | \u001b[0m0.8834   \u001b[0m | \u001b[0m102.3    \u001b[0m | \u001b[0m0.8033   \u001b[0m |\n",
            "| \u001b[0m12       \u001b[0m | \u001b[0m0.9493   \u001b[0m | \u001b[0m0.0478   \u001b[0m | \u001b[0m3.372    \u001b[0m | \u001b[0m0.8256   \u001b[0m | \u001b[0m82.34    \u001b[0m | \u001b[0m0.8453   \u001b[0m |\n",
            "| \u001b[0m13       \u001b[0m | \u001b[0m0.9748   \u001b[0m | \u001b[0m0.5485   \u001b[0m | \u001b[0m4.25     \u001b[0m | \u001b[0m0.8359   \u001b[0m | \u001b[0m90.47    \u001b[0m | \u001b[0m0.9366   \u001b[0m |\n",
            "| \u001b[0m14       \u001b[0m | \u001b[0m0.9755   \u001b[0m | \u001b[0m0.4743   \u001b[0m | \u001b[0m8.378    \u001b[0m | \u001b[0m0.9338   \u001b[0m | \u001b[0m110.9    \u001b[0m | \u001b[0m0.919    \u001b[0m |\n",
            "| \u001b[95m15       \u001b[0m | \u001b[95m0.9775   \u001b[0m | \u001b[95m0.467    \u001b[0m | \u001b[95m9.743    \u001b[0m | \u001b[95m0.8296   \u001b[0m | \u001b[95m143.5    \u001b[0m | \u001b[95m0.8996   \u001b[0m |\n",
            "| \u001b[0m16       \u001b[0m | \u001b[0m0.9765   \u001b[0m | \u001b[0m0.5966   \u001b[0m | \u001b[0m7.793    \u001b[0m | \u001b[0m0.8355   \u001b[0m | \u001b[0m140.5    \u001b[0m | \u001b[0m0.8964   \u001b[0m |\n",
            "| \u001b[0m17       \u001b[0m | \u001b[0m0.9728   \u001b[0m | \u001b[0m0.07865  \u001b[0m | \u001b[0m5.553    \u001b[0m | \u001b[0m0.8723   \u001b[0m | \u001b[0m113.0    \u001b[0m | \u001b[0m0.8359   \u001b[0m |\n",
            "| \u001b[0m18       \u001b[0m | \u001b[0m0.9725   \u001b[0m | \u001b[0m0.1835   \u001b[0m | \u001b[0m9.644    \u001b[0m | \u001b[0m0.9311   \u001b[0m | \u001b[0m89.45    \u001b[0m | \u001b[0m0.9856   \u001b[0m |\n",
            "| \u001b[0m19       \u001b[0m | \u001b[0m0.9742   \u001b[0m | \u001b[0m0.8434   \u001b[0m | \u001b[0m3.369    \u001b[0m | \u001b[0m0.8407   \u001b[0m | \u001b[0m141.1    \u001b[0m | \u001b[0m0.9348   \u001b[0m |\n",
            "| \u001b[0m20       \u001b[0m | \u001b[0m0.9765   \u001b[0m | \u001b[0m0.3043   \u001b[0m | \u001b[0m8.141    \u001b[0m | \u001b[0m0.9237   \u001b[0m | \u001b[0m94.73    \u001b[0m | \u001b[0m0.9604   \u001b[0m |\n",
            "| \u001b[0m21       \u001b[0m | \u001b[0m0.9629   \u001b[0m | \u001b[0m0.01     \u001b[0m | \u001b[0m7.081    \u001b[0m | \u001b[0m1.0      \u001b[0m | \u001b[0m136.1    \u001b[0m | \u001b[0m1.0      \u001b[0m |\n",
            "| \u001b[95m22       \u001b[0m | \u001b[95m0.9778   \u001b[0m | \u001b[95m0.4949   \u001b[0m | \u001b[95m7.05     \u001b[0m | \u001b[95m0.8338   \u001b[0m | \u001b[95m143.4    \u001b[0m | \u001b[95m0.9337   \u001b[0m |\n",
            "| \u001b[0m23       \u001b[0m | \u001b[0m0.9698   \u001b[0m | \u001b[0m1.0      \u001b[0m | \u001b[0m3.0      \u001b[0m | \u001b[0m0.8      \u001b[0m | \u001b[0m131.4    \u001b[0m | \u001b[0m0.8      \u001b[0m |\n",
            "| \u001b[0m24       \u001b[0m | \u001b[0m0.9745   \u001b[0m | \u001b[0m0.1599   \u001b[0m | \u001b[0m9.963    \u001b[0m | \u001b[0m0.883    \u001b[0m | \u001b[0m97.25    \u001b[0m | \u001b[0m0.918    \u001b[0m |\n",
            "=====================================================================================\n"
          ]
        }
      ],
      "source": [
        "from sklearn.metrics import make_scorer\n",
        "score = make_scorer(accuracy_score)\n",
        "\n",
        "def optimizationGB(max_depth, max_features, learning_rate, n_estimators, subsample):\n",
        "    params_gb = {}\n",
        "    params_gb['max_depth'] = round(max_depth)\n",
        "    params_gb['max_features'] = max_features\n",
        "    params_gb['learning_rate'] = learning_rate\n",
        "    params_gb['n_estimators'] = round(n_estimators)\n",
        "    params_gb['subsample'] = subsample\n",
        "\n",
        "    return (cross_val_score(GradientBoostingClassifier(random_state=42, **params_gb),\n",
        "                             X_train_resampled, y_train_resampled, scoring=score, cv=5).mean()).mean()\n",
        "\n",
        "params_gb ={\n",
        "    'max_depth':(3, 10),\n",
        "    'max_features':(0.8, 1),\n",
        "    'learning_rate':(0.01, 1),\n",
        "    'n_estimators':(80, 150),\n",
        "    'subsample': (0.8, 1)\n",
        "}\n",
        "\n",
        "optimiserGB = BayesianOptimization(optimizationGB, params_gb, random_state=111)\n",
        "optimiserGB.maximize(init_points=20, n_iter=4)"
      ]
    },
    {
      "cell_type": "code",
      "execution_count": null,
      "id": "418d7568",
      "metadata": {
        "execution": {
          "iopub.execute_input": "2024-06-12T19:28:24.372433Z",
          "iopub.status.busy": "2024-06-12T19:28:24.371921Z",
          "iopub.status.idle": "2024-06-12T19:28:24.385299Z",
          "shell.execute_reply": "2024-06-12T19:28:24.383679Z"
        },
        "papermill": {
          "duration": 0.037469,
          "end_time": "2024-06-12T19:28:24.388446",
          "exception": false,
          "start_time": "2024-06-12T19:28:24.350977",
          "status": "completed"
        },
        "tags": [],
        "id": "418d7568",
        "outputId": "1aab59bb-d729-4ff9-c363-7d8e18b7ad6b"
      },
      "outputs": [
        {
          "name": "stdout",
          "output_type": "stream",
          "text": [
            "Best Parameters for GB: {'learning_rate': 0.494927115019697, 'max_depth': 7, 'max_features': 0.833799281707321, 'n_estimators': 143, 'subsample': 0.9337483086427925}\n"
          ]
        }
      ],
      "source": [
        "# Best hyperparameters\n",
        "best_params = optimiserGB.max['params']\n",
        "best_params['max_depth'] = round(best_params['max_depth'])\n",
        "best_params['n_estimators'] = round(best_params['n_estimators'])\n",
        "print(\"Best Parameters for GB:\", best_params)\n",
        "\n",
        "# New GradientBoostingClassifier model with the best hyperparameters\n",
        "gb_best = GradientBoostingClassifier(n_estimators=int(best_params['n_estimators']),\n",
        "                                max_depth=int(best_params['max_depth']),\n",
        "                                subsample=best_params['subsample'],\n",
        "                                max_features=best_params['max_depth'],\n",
        "                                learning_rate=best_params['learning_rate'],\n",
        "                                random_state=42)"
      ]
    },
    {
      "cell_type": "markdown",
      "source": [
        "## Bayesian Optimization for LR"
      ],
      "metadata": {
        "id": "OawPlR_B7_de"
      },
      "id": "OawPlR_B7_de"
    },
    {
      "cell_type": "code",
      "execution_count": null,
      "id": "b91babef",
      "metadata": {
        "execution": {
          "iopub.execute_input": "2024-06-12T19:28:24.565598Z",
          "iopub.status.busy": "2024-06-12T19:28:24.565165Z",
          "iopub.status.idle": "2024-06-12T19:28:42.784580Z",
          "shell.execute_reply": "2024-06-12T19:28:42.780164Z"
        },
        "papermill": {
          "duration": 18.381247,
          "end_time": "2024-06-12T19:28:42.789298",
          "exception": false,
          "start_time": "2024-06-12T19:28:24.408051",
          "status": "completed"
        },
        "tags": [],
        "id": "b91babef",
        "outputId": "69dfd1ed-29e6-449d-be1b-31e1340e23b6"
      },
      "outputs": [
        {
          "name": "stdout",
          "output_type": "stream",
          "text": [
            "|   iter    |  target   |     C     | class_... |  penalty  |\n",
            "-------------------------------------------------------------\n",
            "| \u001b[0m1        \u001b[0m | \u001b[0m-0.02253 \u001b[0m | \u001b[0m37.45    \u001b[0m | \u001b[0m0.9507   \u001b[0m | \u001b[0m0.732    \u001b[0m |\n",
            "| \u001b[0m2        \u001b[0m | \u001b[0m-0.02618 \u001b[0m | \u001b[0m59.87    \u001b[0m | \u001b[0m0.156    \u001b[0m | \u001b[0m0.156    \u001b[0m |\n",
            "| \u001b[0m3        \u001b[0m | \u001b[0m-0.02253 \u001b[0m | \u001b[0m5.809    \u001b[0m | \u001b[0m0.8662   \u001b[0m | \u001b[0m0.6011   \u001b[0m |\n",
            "| \u001b[0m4        \u001b[0m | \u001b[0m-0.02253 \u001b[0m | \u001b[0m70.81    \u001b[0m | \u001b[0m0.02058  \u001b[0m | \u001b[0m0.9699   \u001b[0m |\n",
            "| \u001b[0m5        \u001b[0m | \u001b[0m-0.02551 \u001b[0m | \u001b[0m83.24    \u001b[0m | \u001b[0m0.2123   \u001b[0m | \u001b[0m0.1818   \u001b[0m |\n",
            "| \u001b[0m6        \u001b[0m | \u001b[0m-0.02253 \u001b[0m | \u001b[0m70.76    \u001b[0m | \u001b[0m0.04546  \u001b[0m | \u001b[0m0.8386   \u001b[0m |\n",
            "| \u001b[95m7        \u001b[0m | \u001b[95m-0.0222  \u001b[0m | \u001b[95m29.2     \u001b[0m | \u001b[95m0.9924   \u001b[0m | \u001b[95m0.737    \u001b[0m |\n",
            "| \u001b[95m8        \u001b[0m | \u001b[95m-0.02054 \u001b[0m | \u001b[95m18.91    \u001b[0m | \u001b[95m0.9771   \u001b[0m | \u001b[95m0.5203   \u001b[0m |\n",
            "| \u001b[0m9        \u001b[0m | \u001b[0m-0.02154 \u001b[0m | \u001b[0m13.78    \u001b[0m | \u001b[0m0.02143  \u001b[0m | \u001b[0m0.8402   \u001b[0m |\n",
            "| \u001b[0m10       \u001b[0m | \u001b[0m-0.02253 \u001b[0m | \u001b[0m100.0    \u001b[0m | \u001b[0m1.0      \u001b[0m | \u001b[0m1.0      \u001b[0m |\n",
            "| \u001b[0m11       \u001b[0m | \u001b[0m-0.02717 \u001b[0m | \u001b[0m22.89    \u001b[0m | \u001b[0m0.0      \u001b[0m | \u001b[0m0.0      \u001b[0m |\n",
            "| \u001b[0m12       \u001b[0m | \u001b[0m-0.02154 \u001b[0m | \u001b[0m16.81    \u001b[0m | \u001b[0m0.8305   \u001b[0m | \u001b[0m0.7695   \u001b[0m |\n",
            "| \u001b[0m13       \u001b[0m | \u001b[0m-0.02121 \u001b[0m | \u001b[0m10.74    \u001b[0m | \u001b[0m0.8117   \u001b[0m | \u001b[0m0.5495   \u001b[0m |\n",
            "| \u001b[0m14       \u001b[0m | \u001b[0m-0.0222  \u001b[0m | \u001b[0m32.96    \u001b[0m | \u001b[0m0.01429  \u001b[0m | \u001b[0m0.955    \u001b[0m |\n",
            "| \u001b[0m15       \u001b[0m | \u001b[0m-0.02485 \u001b[0m | \u001b[0m94.85    \u001b[0m | \u001b[0m0.2181   \u001b[0m | \u001b[0m0.1663   \u001b[0m |\n",
            "| \u001b[0m16       \u001b[0m | \u001b[0m-0.02286 \u001b[0m | \u001b[0m42.51    \u001b[0m | \u001b[0m0.08329  \u001b[0m | \u001b[0m0.7503   \u001b[0m |\n",
            "| \u001b[0m17       \u001b[0m | \u001b[0m-0.02154 \u001b[0m | \u001b[0m8.668    \u001b[0m | \u001b[0m0.0      \u001b[0m | \u001b[0m1.0      \u001b[0m |\n",
            "| \u001b[0m18       \u001b[0m | \u001b[0m-0.1021  \u001b[0m | \u001b[0m0.03672  \u001b[0m | \u001b[0m0.1357   \u001b[0m | \u001b[0m0.9774   \u001b[0m |\n",
            "| \u001b[0m19       \u001b[0m | \u001b[0m-0.02253 \u001b[0m | \u001b[0m50.94    \u001b[0m | \u001b[0m1.0      \u001b[0m | \u001b[0m1.0      \u001b[0m |\n",
            "| \u001b[0m20       \u001b[0m | \u001b[0m-0.02651 \u001b[0m | \u001b[0m76.63    \u001b[0m | \u001b[0m0.9442   \u001b[0m | \u001b[0m0.06673  \u001b[0m |\n",
            "=============================================================\n"
          ]
        }
      ],
      "source": [
        "# Function to return negative RMSE\n",
        "def optimizationLR(C, penalty, class_weight):\n",
        "    penalty = 'l1' if penalty < 0.5 else 'l2'\n",
        "    class_weight = 'balanced' if class_weight >= 0.5 else None\n",
        "    model = LogisticRegression(C=C,\n",
        "                            penalty=penalty,\n",
        "                            class_weight=class_weight,\n",
        "                            solver='liblinear',\n",
        "                            random_state=42)\n",
        "\n",
        "    return cross_val_score(model, X_train_resampled, y_train_resampled, cv=3, scoring=\"neg_mean_squared_error\").mean()\n",
        "\n",
        "# Hyperparameters to optimise\n",
        "param_boundsLR = {\n",
        "      'C': (0.001, 100),\n",
        "      'penalty': (0, 1),\n",
        "      'class_weight': (0, 1)\n",
        "}\n",
        "optimizer = BayesianOptimization(f=optimizationLR, pbounds=param_boundsLR, random_state=42)\n",
        "optimizer.maximize(init_points=5, n_iter=15)"
      ]
    },
    {
      "cell_type": "code",
      "execution_count": null,
      "id": "0c66523a",
      "metadata": {
        "execution": {
          "iopub.execute_input": "2024-06-12T19:28:42.879413Z",
          "iopub.status.busy": "2024-06-12T19:28:42.878669Z",
          "iopub.status.idle": "2024-06-12T19:28:42.893427Z",
          "shell.execute_reply": "2024-06-12T19:28:42.891964Z"
        },
        "papermill": {
          "duration": 0.061394,
          "end_time": "2024-06-12T19:28:42.897324",
          "exception": false,
          "start_time": "2024-06-12T19:28:42.835930",
          "status": "completed"
        },
        "tags": [],
        "id": "0c66523a",
        "outputId": "8b1ca34c-ee15-4b36-d236-60dd146b7472"
      },
      "outputs": [
        {
          "name": "stdout",
          "output_type": "stream",
          "text": [
            "Best Parameters for LG: {'C': 18.90777121832313, 'class_weight': 'balanced', 'penalty': 'l2'}\n"
          ]
        }
      ],
      "source": [
        "# Best hyperparameters\n",
        "best_params = optimizer.max['params']\n",
        "best_params['class_weight'] = 'balanced' if best_params['class_weight'] >= 0.5 else None\n",
        "best_params['penalty'] = 'l1' if best_params['penalty'] < 0.5 else 'l2'\n",
        "print(\"Best Parameters for LG:\", best_params)\n",
        "\n",
        "# New LogisticRegression model with the best hyperparameters\n",
        "lr_best = LogisticRegression(C=best_params['C'],\n",
        "                             penalty=best_params['penalty'],\n",
        "                             class_weight=best_params['class_weight'],\n",
        "                             solver='liblinear',\n",
        "                             random_state=42)"
      ]
    },
    {
      "cell_type": "markdown",
      "source": [
        "## Optimised ensemble model"
      ],
      "metadata": {
        "id": "vpFWciBl8CW-"
      },
      "id": "vpFWciBl8CW-"
    },
    {
      "cell_type": "code",
      "execution_count": null,
      "id": "73519c39",
      "metadata": {
        "execution": {
          "iopub.execute_input": "2024-06-12T19:28:42.938298Z",
          "iopub.status.busy": "2024-06-12T19:28:42.937858Z",
          "iopub.status.idle": "2024-06-12T19:28:50.885838Z",
          "shell.execute_reply": "2024-06-12T19:28:50.883944Z"
        },
        "papermill": {
          "duration": 7.973844,
          "end_time": "2024-06-12T19:28:50.890600",
          "exception": false,
          "start_time": "2024-06-12T19:28:42.916756",
          "status": "completed"
        },
        "tags": [],
        "id": "73519c39"
      },
      "outputs": [],
      "source": [
        "# Max voting ensemble with soft voting\n",
        "optimisedModel = VotingClassifier(\n",
        "    estimators=[\n",
        "        ('rf', rf_best),\n",
        "        ('lr', lr_best),\n",
        "        ('gb', gb_best)\n",
        "    ],\n",
        "    voting='soft'\n",
        ")\n",
        "\n",
        "optimisedModel.fit(X_train_resampled, y_train_resampled)\n",
        "y_pred = optimisedModel.predict(X_test)"
      ]
    },
    {
      "cell_type": "code",
      "execution_count": null,
      "id": "ba7067e0",
      "metadata": {
        "execution": {
          "iopub.execute_input": "2024-06-12T19:28:50.962740Z",
          "iopub.status.busy": "2024-06-12T19:28:50.961643Z",
          "iopub.status.idle": "2024-06-12T19:28:51.187413Z",
          "shell.execute_reply": "2024-06-12T19:28:51.186387Z"
        },
        "papermill": {
          "duration": 0.257586,
          "end_time": "2024-06-12T19:28:51.190306",
          "exception": false,
          "start_time": "2024-06-12T19:28:50.932720",
          "status": "completed"
        },
        "tags": [],
        "id": "ba7067e0",
        "outputId": "791cc813-3fa2-4eb7-99c2-5f6897dcbe32"
      },
      "outputs": [
        {
          "name": "stdout",
          "output_type": "stream",
          "text": [
            "Accuracy: 0.99\n",
            "F-score: 0.99\n",
            "Precision: 0.98\n",
            "Recall: 0.99\n"
          ]
        },
        {
          "data": {
            "image/png": "[encoded data removed]",
            "text/plain": [
              "<Figure size 600x600 with 1 Axes>"
            ]
          },
          "metadata": {},
          "output_type": "display_data"
        }
      ],
      "source": [
        "#Evaluation metrics\n",
        "accuracy = accuracy_score(y_test, y_pred)\n",
        "fscore = f_score(y_test, y_pred)\n",
        "prec = precision(y_test, y_pred)\n",
        "rec = recall(y_test, y_pred)\n",
        "conf_m = confusion_matrix(y_test, y_pred)\n",
        "print(f'Accuracy: {accuracy:.2f}')\n",
        "print(f'F-score: {fscore:.2f}')\n",
        "print(f'Precision: {prec:.2f}')\n",
        "print(f'Recall: {rec:.2f}')\n",
        "\n",
        "plt.figure(figsize=(6, 6))\n",
        "sns.heatmap(conf_m, annot=True, fmt=\"d\", cmap=\"Blues\", cbar=False, square=True)\n",
        "plt.xlabel(\"Predicted\")\n",
        "plt.ylabel(\"True\")\n",
        "plt.title(\"Confusion Matrix\")\n",
        "plt.show()"
      ]
    }
  ],
  "metadata": {
    "kaggle": {
      "accelerator": "none",
      "dataSources": [
        {
          "datasetId": 6410,
          "sourceId": 9356,
          "sourceType": "datasetVersion"
        }
      ],
      "dockerImageVersionId": 30732,
      "isGpuEnabled": false,
      "isInternetEnabled": true,
      "language": "python",
      "sourceType": "notebook"
    },
    "kernelspec": {
      "display_name": "Python 3",
      "language": "python",
      "name": "python3"
    },
    "language_info": {
      "codemirror_mode": {
        "name": "ipython",
        "version": 3
      },
      "file_extension": ".py",
      "mimetype": "text/x-python",
      "name": "python",
      "nbconvert_exporter": "python",
      "pygments_lexer": "ipython3",
      "version": "3.10.13"
    },
    "papermill": {
      "default_parameters": {},
      "duration": 14084.025474,
      "end_time": "2024-06-12T19:28:53.272859",
      "environment_variables": {},
      "exception": null,
      "input_path": "__notebook__.ipynb",
      "output_path": "__notebook__.ipynb",
      "parameters": {},
      "start_time": "2024-06-12T15:34:09.247385",
      "version": "2.5.0"
    },
    "colab": {
      "provenance": [],
      "include_colab_link": true
    }
  },
  "nbformat": 4,
  "nbformat_minor": 5
}