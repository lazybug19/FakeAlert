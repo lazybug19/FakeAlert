{
 "cells": [
  {
   "cell_type": "code",
   "execution_count": 1,
   "id": "0b026b00",
   "metadata": {
    "_cell_guid": "b1076dfc-b9ad-4769-8c92-a6c4dae69d19",
    "_uuid": "8f2839f25d086af736a60e9eeb907d3b93b6e0e5",
    "execution": {
     "iopub.execute_input": "2024-06-11T16:33:33.017799Z",
     "iopub.status.busy": "2024-06-11T16:33:33.017306Z",
     "iopub.status.idle": "2024-06-11T16:33:36.691637Z",
     "shell.execute_reply": "2024-06-11T16:33:36.690327Z"
    },
    "papermill": {
     "duration": 3.683285,
     "end_time": "2024-06-11T16:33:36.693889",
     "exception": false,
     "start_time": "2024-06-11T16:33:33.010604",
     "status": "completed"
    },
    "tags": []
   },
   "outputs": [
    {
     "name": "stdout",
     "output_type": "stream",
     "text": [
      "/kaggle/input/fake-news-detection/data.h5\n",
      "/kaggle/input/fake-news-detection/data.csv\n"
     ]
    }
   ],
   "source": [
    "import numpy as np\n",
    "import pandas as pd\n",
    "import matplotlib.pyplot as plt\n",
    "import seaborn as sns\n",
    "import re\n",
    "import string\n",
    "\n",
    "from sklearn.preprocessing import LabelEncoder\n",
    "from sklearn.utils import shuffle\n",
    "from nltk.corpus import stopwords\n",
    "from nltk.stem.porter import PorterStemmer\n",
    "from imblearn.over_sampling import SMOTE\n",
    "from sklearn.feature_extraction.text import TfidfVectorizer\n",
    "\n",
    "from sklearn.model_selection import train_test_split, GridSearchCV\n",
    "from sklearn.discriminant_analysis import LinearDiscriminantAnalysis\n",
    "from sklearn.ensemble import GradientBoostingClassifier, RandomForestClassifier, VotingClassifier\n",
    "from sklearn.linear_model import LogisticRegression\n",
    "from sklearn.naive_bayes import GaussianNB\n",
    "from xgboost import XGBClassifier\n",
    "from sklearn.metrics import accuracy_score, confusion_matrix\n",
    "\n",
    "\n",
    "import os\n",
    "for dirname, _, filenames in os.walk('/kaggle/input'):\n",
    "    for filename in filenames:\n",
    "        print(os.path.join(dirname, filename))"
   ]
  },
  {
   "cell_type": "code",
   "execution_count": 2,
   "id": "fde16b99",
   "metadata": {
    "execution": {
     "iopub.execute_input": "2024-06-11T16:33:36.704599Z",
     "iopub.status.busy": "2024-06-11T16:33:36.704024Z",
     "iopub.status.idle": "2024-06-11T16:33:36.713955Z",
     "shell.execute_reply": "2024-06-11T16:33:36.712898Z"
    },
    "papermill": {
     "duration": 0.017683,
     "end_time": "2024-06-11T16:33:36.716304",
     "exception": false,
     "start_time": "2024-06-11T16:33:36.698621",
     "status": "completed"
    },
    "tags": []
   },
   "outputs": [],
   "source": [
    "def precision(actual, predicted):\n",
    "    # Precision = True pos out of the actual results\n",
    "    TP = np.count_nonzero(np.logical_and((actual == 1) , (predicted == 1)).astype(int))\n",
    "    FP = np.count_nonzero(np.logical_and((actual == 0) , (predicted == 1)).astype(int))\n",
    "    return TP/(TP + FP)\n",
    "\n",
    "def recall(actual, predicted):\n",
    "    # Recall = True pos out of the predicted results\n",
    "    TP = np.count_nonzero(np.logical_and((actual == 1) , (predicted == 1)).astype(int))\n",
    "    FN = np.count_nonzero(np.logical_and((actual == 1) , (predicted == 0)).astype(int))\n",
    "    return TP/(TP + FN)\n",
    "\n",
    "def f_score(actual , predicted):\n",
    "    P = precision(actual, predicted)\n",
    "    R = recall(actual, predicted)\n",
    "    return 2*P*R/(P + R)\n",
    "\n",
    "def textPreprocess(text):\n",
    "    text = str(text)\n",
    "    text = text.lower()\n",
    "    text = re.sub('\\[.*?\\]','',text)\n",
    "    text = re.sub(\"\\\\W\",\" \",text)\n",
    "    text = re.sub('https?://\\S+|www\\.\\S+','',text)\n",
    "    text = re.sub('<.*?>+',b'',text)\n",
    "    text = re.sub('[^a-zA-Z]', ' ', text)\n",
    "    return text"
   ]
  },
  {
   "cell_type": "code",
   "execution_count": 3,
   "id": "16805ed6",
   "metadata": {
    "execution": {
     "iopub.execute_input": "2024-06-11T16:33:36.726464Z",
     "iopub.status.busy": "2024-06-11T16:33:36.726050Z",
     "iopub.status.idle": "2024-06-11T16:33:37.111317Z",
     "shell.execute_reply": "2024-06-11T16:33:37.110001Z"
    },
    "papermill": {
     "duration": 0.393261,
     "end_time": "2024-06-11T16:33:37.113851",
     "exception": false,
     "start_time": "2024-06-11T16:33:36.720590",
     "status": "completed"
    },
    "tags": []
   },
   "outputs": [
    {
     "data": {
      "text/html": [
       "<div>\n",
       "<style scoped>\n",
       "    .dataframe tbody tr th:only-of-type {\n",
       "        vertical-align: middle;\n",
       "    }\n",
       "\n",
       "    .dataframe tbody tr th {\n",
       "        vertical-align: top;\n",
       "    }\n",
       "\n",
       "    .dataframe thead th {\n",
       "        text-align: right;\n",
       "    }\n",
       "</style>\n",
       "<table border=\"1\" class=\"dataframe\">\n",
       "  <thead>\n",
       "    <tr style=\"text-align: right;\">\n",
       "      <th></th>\n",
       "      <th>index</th>\n",
       "      <th>URLs</th>\n",
       "      <th>Headline</th>\n",
       "      <th>Body</th>\n",
       "      <th>Label</th>\n",
       "    </tr>\n",
       "  </thead>\n",
       "  <tbody>\n",
       "    <tr>\n",
       "      <th>2992</th>\n",
       "      <td>2992</td>\n",
       "      <td>https://www.reuters.com/article/us-brazil-corr...</td>\n",
       "      <td>Brazil Olympic committee chief resigns amid br...</td>\n",
       "      <td>FILE PHOTO: President of Brazil's Olympic Comm...</td>\n",
       "      <td>1</td>\n",
       "    </tr>\n",
       "    <tr>\n",
       "      <th>2476</th>\n",
       "      <td>2476</td>\n",
       "      <td>https://www.reuters.com/article/us-usa-trump-e...</td>\n",
       "      <td>Eminem rebukes 'racist' Donald Trump in awards...</td>\n",
       "      <td>(Reuters) - Rapper Eminem derided U.S. Preside...</td>\n",
       "      <td>1</td>\n",
       "    </tr>\n",
       "    <tr>\n",
       "      <th>1515</th>\n",
       "      <td>1515</td>\n",
       "      <td>http://beforeitsnews.com/u-s-politics/2017/09/...</td>\n",
       "      <td>Racist Teacher To Student: 'Go Back Where You ...</td>\n",
       "      <td>Racist Teacher To Student: 'Go Back Where You ...</td>\n",
       "      <td>0</td>\n",
       "    </tr>\n",
       "    <tr>\n",
       "      <th>1389</th>\n",
       "      <td>1389</td>\n",
       "      <td>http://www.cnn.com/2017/10/11/us/california-fi...</td>\n",
       "      <td>California fires: At least 23 dead as hundreds...</td>\n",
       "      <td>(CNN) In some areas in Sonoma County, the wild...</td>\n",
       "      <td>1</td>\n",
       "    </tr>\n",
       "    <tr>\n",
       "      <th>1402</th>\n",
       "      <td>1402</td>\n",
       "      <td>http://beforeitsnews.com/u-s-politics/2017/10/...</td>\n",
       "      <td>After Alleged 'Moron' Remark, Tillerson Stroke...</td>\n",
       "      <td>Vietnam Is in Great Danger, You Must Publish a...</td>\n",
       "      <td>0</td>\n",
       "    </tr>\n",
       "    <tr>\n",
       "      <th>2245</th>\n",
       "      <td>2245</td>\n",
       "      <td>http://beforeitsnews.com/u-s-politics/2017/10/...</td>\n",
       "      <td>King Salman’s Favorite Golden Escalator Betray...</td>\n",
       "      <td>A Potato Battery Can Light up a Room for Over ...</td>\n",
       "      <td>0</td>\n",
       "    </tr>\n",
       "    <tr>\n",
       "      <th>3247</th>\n",
       "      <td>3247</td>\n",
       "      <td>https://www.nytimes.com/2017/10/07/world/europ...</td>\n",
       "      <td>Amid Catalan Crisis, Thousands Hold Rallies in...</td>\n",
       "      <td>The vote, which had been declared illegal by t...</td>\n",
       "      <td>1</td>\n",
       "    </tr>\n",
       "    <tr>\n",
       "      <th>1615</th>\n",
       "      <td>1615</td>\n",
       "      <td>https://www.activistpost.com/2017/09/false-arr...</td>\n",
       "      <td>35 False Matches and 1 Erroneous Arrest As Pol...</td>\n",
       "      <td>By Nicholas West\\nAll things biometric are swe...</td>\n",
       "      <td>0</td>\n",
       "    </tr>\n",
       "    <tr>\n",
       "      <th>2312</th>\n",
       "      <td>2312</td>\n",
       "      <td>http://beforeitsnews.com/sports/2017/09/bucs-f...</td>\n",
       "      <td>Bucs Finish Up Homestand on Winning Note 5-3</td>\n",
       "      <td>Bucs Finish Up Homestand on Winning Note 5-3\\n...</td>\n",
       "      <td>0</td>\n",
       "    </tr>\n",
       "    <tr>\n",
       "      <th>993</th>\n",
       "      <td>993</td>\n",
       "      <td>http://beforeitsnews.com/sports/2017/09/alex-c...</td>\n",
       "      <td>Alex Collins Worth a Start?</td>\n",
       "      <td>Alex Collins Worth a Start?\\n% of readers thin...</td>\n",
       "      <td>0</td>\n",
       "    </tr>\n",
       "  </tbody>\n",
       "</table>\n",
       "</div>"
      ],
      "text/plain": [
       "      index                                               URLs  \\\n",
       "2992   2992  https://www.reuters.com/article/us-brazil-corr...   \n",
       "2476   2476  https://www.reuters.com/article/us-usa-trump-e...   \n",
       "1515   1515  http://beforeitsnews.com/u-s-politics/2017/09/...   \n",
       "1389   1389  http://www.cnn.com/2017/10/11/us/california-fi...   \n",
       "1402   1402  http://beforeitsnews.com/u-s-politics/2017/10/...   \n",
       "2245   2245  http://beforeitsnews.com/u-s-politics/2017/10/...   \n",
       "3247   3247  https://www.nytimes.com/2017/10/07/world/europ...   \n",
       "1615   1615  https://www.activistpost.com/2017/09/false-arr...   \n",
       "2312   2312  http://beforeitsnews.com/sports/2017/09/bucs-f...   \n",
       "993     993  http://beforeitsnews.com/sports/2017/09/alex-c...   \n",
       "\n",
       "                                               Headline  \\\n",
       "2992  Brazil Olympic committee chief resigns amid br...   \n",
       "2476  Eminem rebukes 'racist' Donald Trump in awards...   \n",
       "1515  Racist Teacher To Student: 'Go Back Where You ...   \n",
       "1389  California fires: At least 23 dead as hundreds...   \n",
       "1402  After Alleged 'Moron' Remark, Tillerson Stroke...   \n",
       "2245  King Salman’s Favorite Golden Escalator Betray...   \n",
       "3247  Amid Catalan Crisis, Thousands Hold Rallies in...   \n",
       "1615  35 False Matches and 1 Erroneous Arrest As Pol...   \n",
       "2312       Bucs Finish Up Homestand on Winning Note 5-3   \n",
       "993                         Alex Collins Worth a Start?   \n",
       "\n",
       "                                                   Body  Label  \n",
       "2992  FILE PHOTO: President of Brazil's Olympic Comm...      1  \n",
       "2476  (Reuters) - Rapper Eminem derided U.S. Preside...      1  \n",
       "1515  Racist Teacher To Student: 'Go Back Where You ...      0  \n",
       "1389  (CNN) In some areas in Sonoma County, the wild...      1  \n",
       "1402  Vietnam Is in Great Danger, You Must Publish a...      0  \n",
       "2245  A Potato Battery Can Light up a Room for Over ...      0  \n",
       "3247  The vote, which had been declared illegal by t...      1  \n",
       "1615  By Nicholas West\\nAll things biometric are swe...      0  \n",
       "2312  Bucs Finish Up Homestand on Winning Note 5-3\\n...      0  \n",
       "993   Alex Collins Worth a Start?\\n% of readers thin...      0  "
      ]
     },
     "execution_count": 3,
     "metadata": {},
     "output_type": "execute_result"
    }
   ],
   "source": [
    "dataFrame=pd.read_csv('../input/fake-news-detection/data.csv')\n",
    "\n",
    "dataFrame.dropna()\n",
    "dataFrame.reset_index(inplace=True)\n",
    "dataFrame = shuffle(dataFrame,random_state=20)\n",
    "\n",
    "dataFrame.head(10)"
   ]
  },
  {
   "cell_type": "code",
   "execution_count": 4,
   "id": "67bba208",
   "metadata": {
    "execution": {
     "iopub.execute_input": "2024-06-11T16:33:37.124756Z",
     "iopub.status.busy": "2024-06-11T16:33:37.124385Z",
     "iopub.status.idle": "2024-06-11T16:33:37.140936Z",
     "shell.execute_reply": "2024-06-11T16:33:37.139526Z"
    },
    "papermill": {
     "duration": 0.024683,
     "end_time": "2024-06-11T16:33:37.143259",
     "exception": false,
     "start_time": "2024-06-11T16:33:37.118576",
     "status": "completed"
    },
    "tags": []
   },
   "outputs": [
    {
     "name": "stdout",
     "output_type": "stream",
     "text": [
      "\n",
      "Fake:Real News ratio is 0.8759943846513805\n"
     ]
    },
    {
     "data": {
      "text/plain": [
       "Label\n",
       "0    2137\n",
       "1    1872\n",
       "Name: count, dtype: int64"
      ]
     },
     "execution_count": 4,
     "metadata": {},
     "output_type": "execute_result"
    }
   ],
   "source": [
    "value_counts = dataFrame['Label'].value_counts()\n",
    "ratio = value_counts.get(1, 0) / value_counts.get(0, 0)\n",
    "print(\"\\nFake:Real News ratio is\", ratio)\n",
    "dataFrame['Label'].value_counts()"
   ]
  },
  {
   "cell_type": "code",
   "execution_count": 5,
   "id": "9e5513e3",
   "metadata": {
    "execution": {
     "iopub.execute_input": "2024-06-11T16:33:37.153960Z",
     "iopub.status.busy": "2024-06-11T16:33:37.153592Z",
     "iopub.status.idle": "2024-06-11T16:38:08.786843Z",
     "shell.execute_reply": "2024-06-11T16:38:08.785726Z"
    },
    "papermill": {
     "duration": 271.645658,
     "end_time": "2024-06-11T16:38:08.793490",
     "exception": false,
     "start_time": "2024-06-11T16:33:37.147832",
     "status": "completed"
    },
    "tags": []
   },
   "outputs": [
    {
     "name": "stdout",
     "output_type": "stream",
     "text": [
      "reuter rapper eminem derid u presid donald trump racist reckless leader rap video air tuesday night black entertain televis hip hop award eminem told fan four minut unaccompani vocal must choos whether support presid racism thing fantast eminem rap video tape friday detroit park garag trump previous dismiss accus racism exampl said februari least racist person file photo rapper eminem perform afraid bet award lo angel june reuter mario anzuoni file photo repres white hous immedi respond request comment eminem rap one watch video youtub earli wednesday rap also mention barack obama trump predecessor white hous hillari clinton trump democrat rival last year presidenti elect file photo u rapper eminem perform abu dhabi f grand prix race close concert du arena ya island novemb reuter jumana elheloueh file photo better give obama prop caus got offic kamikaz probabl caus nuclear holocaust eminem rap eminem rebuk trump strong critic nation footbal leagu player kneel nation anthem game gestur form demonstr began last year silent protest polic violenc black peopl get enorm reaction attack nfl focu stead talkin puerto rico gun reform nevada eminem rap refer devast hurrican hit puerto rico last month mass shoot la vega kill peopl oct\n"
     ]
    }
   ],
   "source": [
    "stemmer = PorterStemmer()\n",
    "textList = []\n",
    "preprocessedText = dataFrame['Body'].apply(textPreprocess)\n",
    "\n",
    "for text in preprocessedText:\n",
    "    text = text.split()\n",
    "    text = [stemmer.stem(word) for word in text if word not in stopwords.words('english')]\n",
    "    text = ' '.join(text)\n",
    "    textList.append(text)\n",
    "\n",
    "# Example of the preprocessed text\n",
    "print(textList[1])"
   ]
  },
  {
   "cell_type": "code",
   "execution_count": 6,
   "id": "ded8f1c0",
   "metadata": {
    "execution": {
     "iopub.execute_input": "2024-06-11T16:38:08.805023Z",
     "iopub.status.busy": "2024-06-11T16:38:08.804621Z",
     "iopub.status.idle": "2024-06-11T16:38:17.976042Z",
     "shell.execute_reply": "2024-06-11T16:38:17.974705Z"
    },
    "papermill": {
     "duration": 9.179969,
     "end_time": "2024-06-11T16:38:17.978345",
     "exception": false,
     "start_time": "2024-06-11T16:38:08.798376",
     "status": "completed"
    },
    "tags": []
   },
   "outputs": [
    {
     "name": "stdout",
     "output_type": "stream",
     "text": [
      "(4009, 5000)\n"
     ]
    }
   ],
   "source": [
    "X=dataFrame.drop('Label',axis=1)\n",
    "y=dataFrame['Label']\n",
    "\n",
    "vector=TfidfVectorizer(max_features=5000,ngram_range=(1,3))\n",
    "X=vector.fit_transform(textList).toarray()\n",
    "\n",
    "print(X.shape)"
   ]
  },
  {
   "cell_type": "code",
   "execution_count": 7,
   "id": "90a6a047",
   "metadata": {
    "execution": {
     "iopub.execute_input": "2024-06-11T16:38:17.990347Z",
     "iopub.status.busy": "2024-06-11T16:38:17.989544Z",
     "iopub.status.idle": "2024-06-11T16:38:18.596384Z",
     "shell.execute_reply": "2024-06-11T16:38:18.595341Z"
    },
    "papermill": {
     "duration": 0.615873,
     "end_time": "2024-06-11T16:38:18.599161",
     "exception": false,
     "start_time": "2024-06-11T16:38:17.983288",
     "status": "completed"
    },
    "tags": []
   },
   "outputs": [],
   "source": [
    "X_train, X_test, y_train, y_test = train_test_split(X, y, test_size=0.3, random_state=42)\n",
    "\n",
    "#up-sampling minority classes while avoiding overfitting by generating new synthetic examples close to the minority class in feature space.\n",
    "smote = SMOTE(sampling_strategy=1, random_state=42)\n",
    "X_train_resampled, y_train_resampled = smote.fit_resample(X_train, y_train)"
   ]
  },
  {
   "cell_type": "code",
   "execution_count": 8,
   "id": "fc33944d",
   "metadata": {
    "execution": {
     "iopub.execute_input": "2024-06-11T16:38:18.611313Z",
     "iopub.status.busy": "2024-06-11T16:38:18.610182Z",
     "iopub.status.idle": "2024-06-11T16:38:18.656923Z",
     "shell.execute_reply": "2024-06-11T16:38:18.655736Z"
    },
    "papermill": {
     "duration": 0.055366,
     "end_time": "2024-06-11T16:38:18.659447",
     "exception": false,
     "start_time": "2024-06-11T16:38:18.604081",
     "status": "completed"
    },
    "tags": []
   },
   "outputs": [
    {
     "name": "stdout",
     "output_type": "stream",
     "text": [
      "['aaron' 'aaron judg' 'aaron kesel' 'aaron rodger' 'ab' 'abandon' 'abc'\n",
      " 'abc news' 'abe' 'aberti' 'abil' 'abl' 'abort' 'abroad' 'absenc'\n",
      " 'absolut' 'abus' 'ac' 'academ' 'academi' 'acc' 'acc network' 'accept'\n",
      " 'access' 'accid' 'accompani' 'accomplish' 'accord' 'accord report'\n",
      " 'account' 'account allsportsdacc' 'account allsportsdacc pleas' 'accur'\n",
      " 'accus' 'ace' 'achiev' 'acknowledg' 'acquir' 'acquisit' 'acr' 'across'\n",
      " 'across countri' 'act' 'action' 'activ' 'activist' 'activist post'\n",
      " 'activistpost' 'activistpost com' 'actor']\n"
     ]
    },
    {
     "data": {
      "text/html": [
       "<div>\n",
       "<style scoped>\n",
       "    .dataframe tbody tr th:only-of-type {\n",
       "        vertical-align: middle;\n",
       "    }\n",
       "\n",
       "    .dataframe tbody tr th {\n",
       "        vertical-align: top;\n",
       "    }\n",
       "\n",
       "    .dataframe thead th {\n",
       "        text-align: right;\n",
       "    }\n",
       "</style>\n",
       "<table border=\"1\" class=\"dataframe\">\n",
       "  <thead>\n",
       "    <tr style=\"text-align: right;\">\n",
       "      <th></th>\n",
       "      <th>aaron</th>\n",
       "      <th>aaron judg</th>\n",
       "      <th>aaron kesel</th>\n",
       "      <th>aaron rodger</th>\n",
       "      <th>ab</th>\n",
       "      <th>abandon</th>\n",
       "      <th>abc</th>\n",
       "      <th>abc news</th>\n",
       "      <th>abe</th>\n",
       "      <th>aberti</th>\n",
       "      <th>...</th>\n",
       "      <th>yorker</th>\n",
       "      <th>young</th>\n",
       "      <th>younger</th>\n",
       "      <th>youth</th>\n",
       "      <th>youtub</th>\n",
       "      <th>zach</th>\n",
       "      <th>zapatista</th>\n",
       "      <th>zealand</th>\n",
       "      <th>zero</th>\n",
       "      <th>zone</th>\n",
       "    </tr>\n",
       "  </thead>\n",
       "  <tbody>\n",
       "    <tr>\n",
       "      <th>0</th>\n",
       "      <td>0.0</td>\n",
       "      <td>0.0</td>\n",
       "      <td>0.0</td>\n",
       "      <td>0.0</td>\n",
       "      <td>0.0</td>\n",
       "      <td>0.0</td>\n",
       "      <td>0.00000</td>\n",
       "      <td>0.0</td>\n",
       "      <td>0.000000</td>\n",
       "      <td>0.000000</td>\n",
       "      <td>...</td>\n",
       "      <td>0.0</td>\n",
       "      <td>0.0</td>\n",
       "      <td>0.0</td>\n",
       "      <td>0.0</td>\n",
       "      <td>0.000000</td>\n",
       "      <td>0.0</td>\n",
       "      <td>0.0</td>\n",
       "      <td>0.0</td>\n",
       "      <td>0.0</td>\n",
       "      <td>0.0</td>\n",
       "    </tr>\n",
       "    <tr>\n",
       "      <th>1</th>\n",
       "      <td>0.0</td>\n",
       "      <td>0.0</td>\n",
       "      <td>0.0</td>\n",
       "      <td>0.0</td>\n",
       "      <td>0.0</td>\n",
       "      <td>0.0</td>\n",
       "      <td>0.00000</td>\n",
       "      <td>0.0</td>\n",
       "      <td>0.000000</td>\n",
       "      <td>0.000000</td>\n",
       "      <td>...</td>\n",
       "      <td>0.0</td>\n",
       "      <td>0.0</td>\n",
       "      <td>0.0</td>\n",
       "      <td>0.0</td>\n",
       "      <td>0.000000</td>\n",
       "      <td>0.0</td>\n",
       "      <td>0.0</td>\n",
       "      <td>0.0</td>\n",
       "      <td>0.0</td>\n",
       "      <td>0.0</td>\n",
       "    </tr>\n",
       "    <tr>\n",
       "      <th>2</th>\n",
       "      <td>0.0</td>\n",
       "      <td>0.0</td>\n",
       "      <td>0.0</td>\n",
       "      <td>0.0</td>\n",
       "      <td>0.0</td>\n",
       "      <td>0.0</td>\n",
       "      <td>0.07461</td>\n",
       "      <td>0.0</td>\n",
       "      <td>0.000000</td>\n",
       "      <td>0.000000</td>\n",
       "      <td>...</td>\n",
       "      <td>0.0</td>\n",
       "      <td>0.0</td>\n",
       "      <td>0.0</td>\n",
       "      <td>0.0</td>\n",
       "      <td>0.000000</td>\n",
       "      <td>0.0</td>\n",
       "      <td>0.0</td>\n",
       "      <td>0.0</td>\n",
       "      <td>0.0</td>\n",
       "      <td>0.0</td>\n",
       "    </tr>\n",
       "    <tr>\n",
       "      <th>3</th>\n",
       "      <td>0.0</td>\n",
       "      <td>0.0</td>\n",
       "      <td>0.0</td>\n",
       "      <td>0.0</td>\n",
       "      <td>0.0</td>\n",
       "      <td>0.0</td>\n",
       "      <td>0.00000</td>\n",
       "      <td>0.0</td>\n",
       "      <td>0.048286</td>\n",
       "      <td>0.503343</td>\n",
       "      <td>...</td>\n",
       "      <td>0.0</td>\n",
       "      <td>0.0</td>\n",
       "      <td>0.0</td>\n",
       "      <td>0.0</td>\n",
       "      <td>0.000000</td>\n",
       "      <td>0.0</td>\n",
       "      <td>0.0</td>\n",
       "      <td>0.0</td>\n",
       "      <td>0.0</td>\n",
       "      <td>0.0</td>\n",
       "    </tr>\n",
       "    <tr>\n",
       "      <th>4</th>\n",
       "      <td>0.0</td>\n",
       "      <td>0.0</td>\n",
       "      <td>0.0</td>\n",
       "      <td>0.0</td>\n",
       "      <td>0.0</td>\n",
       "      <td>0.0</td>\n",
       "      <td>0.00000</td>\n",
       "      <td>0.0</td>\n",
       "      <td>0.000000</td>\n",
       "      <td>0.000000</td>\n",
       "      <td>...</td>\n",
       "      <td>0.0</td>\n",
       "      <td>0.0</td>\n",
       "      <td>0.0</td>\n",
       "      <td>0.0</td>\n",
       "      <td>0.026363</td>\n",
       "      <td>0.0</td>\n",
       "      <td>0.0</td>\n",
       "      <td>0.0</td>\n",
       "      <td>0.0</td>\n",
       "      <td>0.0</td>\n",
       "    </tr>\n",
       "  </tbody>\n",
       "</table>\n",
       "<p>5 rows × 5000 columns</p>\n",
       "</div>"
      ],
      "text/plain": [
       "   aaron  aaron judg  aaron kesel  aaron rodger   ab  abandon      abc  \\\n",
       "0    0.0         0.0          0.0           0.0  0.0      0.0  0.00000   \n",
       "1    0.0         0.0          0.0           0.0  0.0      0.0  0.00000   \n",
       "2    0.0         0.0          0.0           0.0  0.0      0.0  0.07461   \n",
       "3    0.0         0.0          0.0           0.0  0.0      0.0  0.00000   \n",
       "4    0.0         0.0          0.0           0.0  0.0      0.0  0.00000   \n",
       "\n",
       "   abc news       abe    aberti  ...  yorker  young  younger  youth    youtub  \\\n",
       "0       0.0  0.000000  0.000000  ...     0.0    0.0      0.0    0.0  0.000000   \n",
       "1       0.0  0.000000  0.000000  ...     0.0    0.0      0.0    0.0  0.000000   \n",
       "2       0.0  0.000000  0.000000  ...     0.0    0.0      0.0    0.0  0.000000   \n",
       "3       0.0  0.048286  0.503343  ...     0.0    0.0      0.0    0.0  0.000000   \n",
       "4       0.0  0.000000  0.000000  ...     0.0    0.0      0.0    0.0  0.026363   \n",
       "\n",
       "   zach  zapatista  zealand  zero  zone  \n",
       "0   0.0        0.0      0.0   0.0   0.0  \n",
       "1   0.0        0.0      0.0   0.0   0.0  \n",
       "2   0.0        0.0      0.0   0.0   0.0  \n",
       "3   0.0        0.0      0.0   0.0   0.0  \n",
       "4   0.0        0.0      0.0   0.0   0.0  \n",
       "\n",
       "[5 rows x 5000 columns]"
      ]
     },
     "execution_count": 8,
     "metadata": {},
     "output_type": "execute_result"
    }
   ],
   "source": [
    "features = vector.get_feature_names_out()[:50]\n",
    "print(features)\n",
    "count = pd.DataFrame(X_train, columns=vector.get_feature_names_out())\n",
    "count.head()"
   ]
  },
  {
   "cell_type": "code",
   "execution_count": 9,
   "id": "f000b246",
   "metadata": {
    "execution": {
     "iopub.execute_input": "2024-06-11T16:38:18.671677Z",
     "iopub.status.busy": "2024-06-11T16:38:18.671297Z",
     "iopub.status.idle": "2024-06-11T16:38:18.676553Z",
     "shell.execute_reply": "2024-06-11T16:38:18.675547Z"
    },
    "papermill": {
     "duration": 0.014089,
     "end_time": "2024-06-11T16:38:18.678754",
     "exception": false,
     "start_time": "2024-06-11T16:38:18.664665",
     "status": "completed"
    },
    "tags": []
   },
   "outputs": [],
   "source": [
    "# Base models\n",
    "model1 = XGBClassifier(use_label_encoder=False, eval_metric='logloss')\n",
    "model2 = GaussianNB()\n",
    "model3 = RandomForestClassifier(n_estimators=100, random_state=42)"
   ]
  },
  {
   "cell_type": "code",
   "execution_count": 10,
   "id": "8a7b1e5b",
   "metadata": {
    "execution": {
     "iopub.execute_input": "2024-06-11T16:38:18.691345Z",
     "iopub.status.busy": "2024-06-11T16:38:18.690406Z",
     "iopub.status.idle": "2024-06-11T16:38:37.010796Z",
     "shell.execute_reply": "2024-06-11T16:38:37.009666Z"
    },
    "papermill": {
     "duration": 18.329363,
     "end_time": "2024-06-11T16:38:37.013377",
     "exception": false,
     "start_time": "2024-06-11T16:38:18.684014",
     "status": "completed"
    },
    "tags": []
   },
   "outputs": [],
   "source": [
    "# Max voting ensemble with soft voting\n",
    "ensemble_model = VotingClassifier(\n",
    "    estimators=[\n",
    "        ('xgb', model1),\n",
    "        ('nb', model2),\n",
    "        ('rf', model3)\n",
    "    ],\n",
    "    voting='soft'\n",
    ")\n",
    "\n",
    "ensemble_model.fit(X_train_resampled, y_train_resampled)\n",
    "y_pred = ensemble_model.predict(X_test)"
   ]
  },
  {
   "cell_type": "code",
   "execution_count": 11,
   "id": "074e71bd",
   "metadata": {
    "execution": {
     "iopub.execute_input": "2024-06-11T16:38:37.025671Z",
     "iopub.status.busy": "2024-06-11T16:38:37.025291Z",
     "iopub.status.idle": "2024-06-11T16:38:37.182821Z",
     "shell.execute_reply": "2024-06-11T16:38:37.181527Z"
    },
    "papermill": {
     "duration": 0.168277,
     "end_time": "2024-06-11T16:38:37.186981",
     "exception": false,
     "start_time": "2024-06-11T16:38:37.018704",
     "status": "completed"
    },
    "tags": []
   },
   "outputs": [
    {
     "name": "stdout",
     "output_type": "stream",
     "text": [
      "Accuracy: 0.98\n",
      "F-score: 0.98\n",
      "Precision: 0.97\n",
      "Recall: 0.99\n"
     ]
    },
    {
     "data": {
      "image/png": "[encoded data removed]",
      "text/plain": [
       "<Figure size 600x600 with 1 Axes>"
      ]
     },
     "metadata": {},
     "output_type": "display_data"
    }
   ],
   "source": [
    "# Evaluation metrics\n",
    "accuracy = accuracy_score(y_test, y_pred)\n",
    "fscore = f_score(y_test, y_pred)\n",
    "prec = precision(y_test, y_pred)\n",
    "rec = recall(y_test, y_pred)\n",
    "conf_m = confusion_matrix(y_test, y_pred)\n",
    "print(f'Accuracy: {accuracy:.2f}')\n",
    "print(f'F-score: {fscore:.2f}') \n",
    "print(f'Precision: {prec:.2f}') \n",
    "print(f'Recall: {rec:.2f}') \n",
    "\n",
    "plt.figure(figsize=(6, 6))\n",
    "sns.heatmap(conf_m, annot=True, fmt=\"d\", cmap=\"Blues\", cbar=False, square=True)\n",
    "plt.xlabel(\"Predicted\")\n",
    "plt.ylabel(\"True\")\n",
    "plt.title(\"Confusion Matrix\")\n",
    "plt.show()"
   ]
  },
  {
   "cell_type": "code",
   "execution_count": 12,
   "id": "c9b7cad1",
   "metadata": {
    "execution": {
     "iopub.execute_input": "2024-06-11T16:38:37.201317Z",
     "iopub.status.busy": "2024-06-11T16:38:37.200365Z",
     "iopub.status.idle": "2024-06-11T16:38:37.206283Z",
     "shell.execute_reply": "2024-06-11T16:38:37.204915Z"
    },
    "papermill": {
     "duration": 0.014937,
     "end_time": "2024-06-11T16:38:37.208551",
     "exception": false,
     "start_time": "2024-06-11T16:38:37.193614",
     "status": "completed"
    },
    "tags": []
   },
   "outputs": [],
   "source": [
    "# Base models\n",
    "rf_model = RandomForestClassifier(n_estimators=100, random_state=42)\n",
    "lr_model = LogisticRegression(max_iter=1000, random_state=42)\n",
    "gb_model = GradientBoostingClassifier(n_estimators=100, random_state=42)"
   ]
  },
  {
   "cell_type": "code",
   "execution_count": 13,
   "id": "65d0235a",
   "metadata": {
    "execution": {
     "iopub.execute_input": "2024-06-11T16:38:37.221472Z",
     "iopub.status.busy": "2024-06-11T16:38:37.221088Z",
     "iopub.status.idle": "2024-06-11T16:39:58.087378Z",
     "shell.execute_reply": "2024-06-11T16:39:58.085970Z"
    },
    "papermill": {
     "duration": 80.87812,
     "end_time": "2024-06-11T16:39:58.092327",
     "exception": false,
     "start_time": "2024-06-11T16:38:37.214207",
     "status": "completed"
    },
    "tags": []
   },
   "outputs": [],
   "source": [
    "# Max voting ensemble with soft voting\n",
    "ensemble_model = VotingClassifier(\n",
    "    estimators=[\n",
    "        ('rf', rf_model),\n",
    "        ('lr', lr_model),\n",
    "        ('gb', gb_model)\n",
    "    ],\n",
    "    voting='soft'\n",
    ")\n",
    "\n",
    "ensemble_model.fit(X_train_resampled, y_train_resampled)\n",
    "y_pred2 = ensemble_model.predict(X_test)"
   ]
  },
  {
   "cell_type": "code",
   "execution_count": 14,
   "id": "1b273cce",
   "metadata": {
    "execution": {
     "iopub.execute_input": "2024-06-11T16:39:58.113110Z",
     "iopub.status.busy": "2024-06-11T16:39:58.112570Z",
     "iopub.status.idle": "2024-06-11T16:39:58.294332Z",
     "shell.execute_reply": "2024-06-11T16:39:58.293194Z"
    },
    "papermill": {
     "duration": 0.194828,
     "end_time": "2024-06-11T16:39:58.296526",
     "exception": false,
     "start_time": "2024-06-11T16:39:58.101698",
     "status": "completed"
    },
    "tags": []
   },
   "outputs": [
    {
     "name": "stdout",
     "output_type": "stream",
     "text": [
      "Accuracy: 0.99\n",
      "F-score: 0.99\n",
      "Precision: 0.99\n",
      "Recall: 0.99\n"
     ]
    },
    {
     "data": {
      "image/png": "[encoded data removed]",
      "text/plain": [
       "<Figure size 600x600 with 1 Axes>"
      ]
     },
     "metadata": {},
     "output_type": "display_data"
    }
   ],
   "source": [
    "#Evaluation metrics\n",
    "accuracy = accuracy_score(y_test, y_pred2)\n",
    "fscore = f_score(y_test, y_pred2)\n",
    "prec = precision(y_test, y_pred2)\n",
    "rec = recall(y_test, y_pred2)\n",
    "conf_m = confusion_matrix(y_test, y_pred2)\n",
    "print(f'Accuracy: {accuracy:.2f}')\n",
    "print(f'F-score: {fscore:.2f}') \n",
    "print(f'Precision: {prec:.2f}') \n",
    "print(f'Recall: {rec:.2f}') \n",
    "\n",
    "plt.figure(figsize=(6, 6))\n",
    "sns.heatmap(conf_m, annot=True, fmt=\"d\", cmap=\"Blues\", cbar=False, square=True)\n",
    "plt.xlabel(\"Predicted\")\n",
    "plt.ylabel(\"True\")\n",
    "plt.title(\"Confusion Matrix\")\n",
    "plt.show()"
   ]
  }
 ],
 "metadata": {
  "kaggle": {
   "accelerator": "none",
   "dataSources": [
    {
     "datasetId": 6410,
     "sourceId": 9356,
     "sourceType": "datasetVersion"
    }
   ],
   "dockerImageVersionId": 30732,
   "isGpuEnabled": false,
   "isInternetEnabled": true,
   "language": "python",
   "sourceType": "notebook"
  },
  "kernelspec": {
   "display_name": "Python 3",
   "language": "python",
   "name": "python3"
  },
  "language_info": {
   "codemirror_mode": {
    "name": "ipython",
    "version": 3
   },
   "file_extension": ".py",
   "mimetype": "text/x-python",
   "name": "python",
   "nbconvert_exporter": "python",
   "pygments_lexer": "ipython3",
   "version": "3.10.13"
  },
  "papermill": {
   "default_parameters": {},
   "duration": 389.000236,
   "end_time": "2024-06-11T16:39:59.225434",
   "environment_variables": {},
   "exception": null,
   "input_path": "__notebook__.ipynb",
   "output_path": "__notebook__.ipynb",
   "parameters": {},
   "start_time": "2024-06-11T16:33:30.225198",
   "version": "2.5.0"
  }
 },
 "nbformat": 4,
 "nbformat_minor": 5
}
