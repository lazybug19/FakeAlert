{
 "cells": [
  {
   "cell_type": "code",
   "execution_count": 1,
   "id": "da41d24c",
   "metadata": {
    "_cell_guid": "b1076dfc-b9ad-4769-8c92-a6c4dae69d19",
    "_uuid": "8f2839f25d086af736a60e9eeb907d3b93b6e0e5",
    "execution": {
     "iopub.execute_input": "2024-06-11T09:41:16.884036Z",
     "iopub.status.busy": "2024-06-11T09:41:16.883615Z",
     "iopub.status.idle": "2024-06-11T09:41:21.505652Z",
     "shell.execute_reply": "2024-06-11T09:41:21.504086Z"
    },
    "papermill": {
     "duration": 4.631681,
     "end_time": "2024-06-11T09:41:21.508366",
     "exception": false,
     "start_time": "2024-06-11T09:41:16.876685",
     "status": "completed"
    },
    "tags": []
   },
   "outputs": [
    {
     "name": "stdout",
     "output_type": "stream",
     "text": [
      "/kaggle/input/fake-news-detection/data.h5\n",
      "/kaggle/input/fake-news-detection/data.csv\n"
     ]
    }
   ],
   "source": [
    "import numpy as np\n",
    "import pandas as pd\n",
    "import matplotlib.pyplot as plt\n",
    "import seaborn as sns\n",
    "import re\n",
    "import string\n",
    "\n",
    "from sklearn.preprocessing import LabelEncoder\n",
    "from sklearn.utils import shuffle\n",
    "from nltk.corpus import stopwords\n",
    "from nltk.stem.porter import PorterStemmer\n",
    "from imblearn.over_sampling import SMOTE\n",
    "from sklearn.feature_extraction.text import TfidfVectorizer\n",
    "\n",
    "from sklearn.model_selection import train_test_split, GridSearchCV\n",
    "from sklearn.discriminant_analysis import LinearDiscriminantAnalysis\n",
    "from sklearn.ensemble import VotingClassifier, RandomForestClassifier\n",
    "from sklearn.naive_bayes import GaussianNB\n",
    "from xgboost import XGBClassifier\n",
    "from sklearn.metrics import accuracy_score, confusion_matrix\n",
    "\n",
    "\n",
    "import os\n",
    "for dirname, _, filenames in os.walk('/kaggle/input'):\n",
    "    for filename in filenames:\n",
    "        print(os.path.join(dirname, filename))"
   ]
  },
  {
   "cell_type": "code",
   "execution_count": 2,
   "id": "28d61db5",
   "metadata": {
    "execution": {
     "iopub.execute_input": "2024-06-11T09:41:21.520506Z",
     "iopub.status.busy": "2024-06-11T09:41:21.519925Z",
     "iopub.status.idle": "2024-06-11T09:41:21.531822Z",
     "shell.execute_reply": "2024-06-11T09:41:21.530807Z"
    },
    "papermill": {
     "duration": 0.021173,
     "end_time": "2024-06-11T09:41:21.534749",
     "exception": false,
     "start_time": "2024-06-11T09:41:21.513576",
     "status": "completed"
    },
    "tags": []
   },
   "outputs": [],
   "source": [
    "def precision(actual, predicted):\n",
    "    # Precision = True pos out of the actual results\n",
    "    TP = np.count_nonzero(np.logical_and((actual == 1) , (predicted == 1)).astype(int))\n",
    "    FP = np.count_nonzero(np.logical_and((actual == 0) , (predicted == 1)).astype(int))\n",
    "    return TP/(TP + FP)\n",
    "\n",
    "def recall(actual, predicted):\n",
    "    # Recall = True pos out of the predicted results\n",
    "    TP = np.count_nonzero(np.logical_and((actual == 1) , (predicted == 1)).astype(int))\n",
    "    FN = np.count_nonzero(np.logical_and((actual == 1) , (predicted == 0)).astype(int))\n",
    "    return TP/(TP + FN)\n",
    "\n",
    "def f_score(actual , predicted):\n",
    "    P = precision(actual, predicted)\n",
    "    R = recall(actual, predicted)\n",
    "    return 2*P*R/(P + R)\n",
    "\n",
    "def textPreprocess(text):\n",
    "    text = str(text)\n",
    "    text = text.lower()\n",
    "    text = re.sub('\\[.*?\\]','',text)\n",
    "    text = re.sub('https?://\\S+|www\\.\\S+','',text)\n",
    "    text = re.sub('<.*?>+',b'',text)\n",
    "    text = re.sub('[%s]' % re.escape(string.punctuation),'',text)\n",
    "    return text"
   ]
  },
  {
   "cell_type": "code",
   "execution_count": 3,
   "id": "1c731a60",
   "metadata": {
    "execution": {
     "iopub.execute_input": "2024-06-11T09:41:21.546260Z",
     "iopub.status.busy": "2024-06-11T09:41:21.545812Z",
     "iopub.status.idle": "2024-06-11T09:41:21.987744Z",
     "shell.execute_reply": "2024-06-11T09:41:21.986365Z"
    },
    "papermill": {
     "duration": 0.451056,
     "end_time": "2024-06-11T09:41:21.990694",
     "exception": false,
     "start_time": "2024-06-11T09:41:21.539638",
     "status": "completed"
    },
    "tags": []
   },
   "outputs": [
    {
     "data": {
      "text/html": [
       "<div>\n",
       "<style scoped>\n",
       "    .dataframe tbody tr th:only-of-type {\n",
       "        vertical-align: middle;\n",
       "    }\n",
       "\n",
       "    .dataframe tbody tr th {\n",
       "        vertical-align: top;\n",
       "    }\n",
       "\n",
       "    .dataframe thead th {\n",
       "        text-align: right;\n",
       "    }\n",
       "</style>\n",
       "<table border=\"1\" class=\"dataframe\">\n",
       "  <thead>\n",
       "    <tr style=\"text-align: right;\">\n",
       "      <th></th>\n",
       "      <th>index</th>\n",
       "      <th>URLs</th>\n",
       "      <th>Headline</th>\n",
       "      <th>Body</th>\n",
       "      <th>Label</th>\n",
       "    </tr>\n",
       "  </thead>\n",
       "  <tbody>\n",
       "    <tr>\n",
       "      <th>2992</th>\n",
       "      <td>2992</td>\n",
       "      <td>https://www.reuters.com/article/us-brazil-corr...</td>\n",
       "      <td>Brazil Olympic committee chief resigns amid br...</td>\n",
       "      <td>FILE PHOTO: President of Brazil's Olympic Comm...</td>\n",
       "      <td>1</td>\n",
       "    </tr>\n",
       "    <tr>\n",
       "      <th>2476</th>\n",
       "      <td>2476</td>\n",
       "      <td>https://www.reuters.com/article/us-usa-trump-e...</td>\n",
       "      <td>Eminem rebukes 'racist' Donald Trump in awards...</td>\n",
       "      <td>(Reuters) - Rapper Eminem derided U.S. Preside...</td>\n",
       "      <td>1</td>\n",
       "    </tr>\n",
       "    <tr>\n",
       "      <th>1515</th>\n",
       "      <td>1515</td>\n",
       "      <td>http://beforeitsnews.com/u-s-politics/2017/09/...</td>\n",
       "      <td>Racist Teacher To Student: 'Go Back Where You ...</td>\n",
       "      <td>Racist Teacher To Student: 'Go Back Where You ...</td>\n",
       "      <td>0</td>\n",
       "    </tr>\n",
       "    <tr>\n",
       "      <th>1389</th>\n",
       "      <td>1389</td>\n",
       "      <td>http://www.cnn.com/2017/10/11/us/california-fi...</td>\n",
       "      <td>California fires: At least 23 dead as hundreds...</td>\n",
       "      <td>(CNN) In some areas in Sonoma County, the wild...</td>\n",
       "      <td>1</td>\n",
       "    </tr>\n",
       "    <tr>\n",
       "      <th>1402</th>\n",
       "      <td>1402</td>\n",
       "      <td>http://beforeitsnews.com/u-s-politics/2017/10/...</td>\n",
       "      <td>After Alleged 'Moron' Remark, Tillerson Stroke...</td>\n",
       "      <td>Vietnam Is in Great Danger, You Must Publish a...</td>\n",
       "      <td>0</td>\n",
       "    </tr>\n",
       "    <tr>\n",
       "      <th>2245</th>\n",
       "      <td>2245</td>\n",
       "      <td>http://beforeitsnews.com/u-s-politics/2017/10/...</td>\n",
       "      <td>King Salman’s Favorite Golden Escalator Betray...</td>\n",
       "      <td>A Potato Battery Can Light up a Room for Over ...</td>\n",
       "      <td>0</td>\n",
       "    </tr>\n",
       "    <tr>\n",
       "      <th>3247</th>\n",
       "      <td>3247</td>\n",
       "      <td>https://www.nytimes.com/2017/10/07/world/europ...</td>\n",
       "      <td>Amid Catalan Crisis, Thousands Hold Rallies in...</td>\n",
       "      <td>The vote, which had been declared illegal by t...</td>\n",
       "      <td>1</td>\n",
       "    </tr>\n",
       "    <tr>\n",
       "      <th>1615</th>\n",
       "      <td>1615</td>\n",
       "      <td>https://www.activistpost.com/2017/09/false-arr...</td>\n",
       "      <td>35 False Matches and 1 Erroneous Arrest As Pol...</td>\n",
       "      <td>By Nicholas West\\nAll things biometric are swe...</td>\n",
       "      <td>0</td>\n",
       "    </tr>\n",
       "    <tr>\n",
       "      <th>2312</th>\n",
       "      <td>2312</td>\n",
       "      <td>http://beforeitsnews.com/sports/2017/09/bucs-f...</td>\n",
       "      <td>Bucs Finish Up Homestand on Winning Note 5-3</td>\n",
       "      <td>Bucs Finish Up Homestand on Winning Note 5-3\\n...</td>\n",
       "      <td>0</td>\n",
       "    </tr>\n",
       "    <tr>\n",
       "      <th>993</th>\n",
       "      <td>993</td>\n",
       "      <td>http://beforeitsnews.com/sports/2017/09/alex-c...</td>\n",
       "      <td>Alex Collins Worth a Start?</td>\n",
       "      <td>Alex Collins Worth a Start?\\n% of readers thin...</td>\n",
       "      <td>0</td>\n",
       "    </tr>\n",
       "  </tbody>\n",
       "</table>\n",
       "</div>"
      ],
      "text/plain": [
       "      index                                               URLs  \\\n",
       "2992   2992  https://www.reuters.com/article/us-brazil-corr...   \n",
       "2476   2476  https://www.reuters.com/article/us-usa-trump-e...   \n",
       "1515   1515  http://beforeitsnews.com/u-s-politics/2017/09/...   \n",
       "1389   1389  http://www.cnn.com/2017/10/11/us/california-fi...   \n",
       "1402   1402  http://beforeitsnews.com/u-s-politics/2017/10/...   \n",
       "2245   2245  http://beforeitsnews.com/u-s-politics/2017/10/...   \n",
       "3247   3247  https://www.nytimes.com/2017/10/07/world/europ...   \n",
       "1615   1615  https://www.activistpost.com/2017/09/false-arr...   \n",
       "2312   2312  http://beforeitsnews.com/sports/2017/09/bucs-f...   \n",
       "993     993  http://beforeitsnews.com/sports/2017/09/alex-c...   \n",
       "\n",
       "                                               Headline  \\\n",
       "2992  Brazil Olympic committee chief resigns amid br...   \n",
       "2476  Eminem rebukes 'racist' Donald Trump in awards...   \n",
       "1515  Racist Teacher To Student: 'Go Back Where You ...   \n",
       "1389  California fires: At least 23 dead as hundreds...   \n",
       "1402  After Alleged 'Moron' Remark, Tillerson Stroke...   \n",
       "2245  King Salman’s Favorite Golden Escalator Betray...   \n",
       "3247  Amid Catalan Crisis, Thousands Hold Rallies in...   \n",
       "1615  35 False Matches and 1 Erroneous Arrest As Pol...   \n",
       "2312       Bucs Finish Up Homestand on Winning Note 5-3   \n",
       "993                         Alex Collins Worth a Start?   \n",
       "\n",
       "                                                   Body  Label  \n",
       "2992  FILE PHOTO: President of Brazil's Olympic Comm...      1  \n",
       "2476  (Reuters) - Rapper Eminem derided U.S. Preside...      1  \n",
       "1515  Racist Teacher To Student: 'Go Back Where You ...      0  \n",
       "1389  (CNN) In some areas in Sonoma County, the wild...      1  \n",
       "1402  Vietnam Is in Great Danger, You Must Publish a...      0  \n",
       "2245  A Potato Battery Can Light up a Room for Over ...      0  \n",
       "3247  The vote, which had been declared illegal by t...      1  \n",
       "1615  By Nicholas West\\nAll things biometric are swe...      0  \n",
       "2312  Bucs Finish Up Homestand on Winning Note 5-3\\n...      0  \n",
       "993   Alex Collins Worth a Start?\\n% of readers thin...      0  "
      ]
     },
     "execution_count": 3,
     "metadata": {},
     "output_type": "execute_result"
    }
   ],
   "source": [
    "dataFrame=pd.read_csv('../input/fake-news-detection/data.csv')\n",
    "\n",
    "dataFrame.dropna()\n",
    "dataFrame.reset_index(inplace=True)\n",
    "dataFrame = shuffle(dataFrame,random_state=20)\n",
    "\n",
    "dataFrame.head(10)"
   ]
  },
  {
   "cell_type": "code",
   "execution_count": 4,
   "id": "c085e795",
   "metadata": {
    "execution": {
     "iopub.execute_input": "2024-06-11T09:41:22.004395Z",
     "iopub.status.busy": "2024-06-11T09:41:22.003988Z",
     "iopub.status.idle": "2024-06-11T09:41:22.023284Z",
     "shell.execute_reply": "2024-06-11T09:41:22.022205Z"
    },
    "papermill": {
     "duration": 0.029171,
     "end_time": "2024-06-11T09:41:22.025969",
     "exception": false,
     "start_time": "2024-06-11T09:41:21.996798",
     "status": "completed"
    },
    "tags": []
   },
   "outputs": [
    {
     "name": "stdout",
     "output_type": "stream",
     "text": [
      "\n",
      "Fake:Real News ratio is 0.8759943846513805\n"
     ]
    },
    {
     "data": {
      "text/plain": [
       "Label\n",
       "0    2137\n",
       "1    1872\n",
       "Name: count, dtype: int64"
      ]
     },
     "execution_count": 4,
     "metadata": {},
     "output_type": "execute_result"
    }
   ],
   "source": [
    "value_counts = dataFrame['Label'].value_counts()\n",
    "ratio = value_counts.get(1, 0) / value_counts.get(0, 0)\n",
    "print(\"\\nFake:Real News ratio is\", ratio)\n",
    "dataFrame['Label'].value_counts()"
   ]
  },
  {
   "cell_type": "code",
   "execution_count": 5,
   "id": "3b23c8ac",
   "metadata": {
    "execution": {
     "iopub.execute_input": "2024-06-11T09:41:22.039075Z",
     "iopub.status.busy": "2024-06-11T09:41:22.038684Z",
     "iopub.status.idle": "2024-06-11T09:46:42.338602Z",
     "shell.execute_reply": "2024-06-11T09:46:42.337358Z"
    },
    "papermill": {
     "duration": 320.315192,
     "end_time": "2024-06-11T09:46:42.346819",
     "exception": false,
     "start_time": "2024-06-11T09:41:22.031627",
     "status": "completed"
    },
    "tags": []
   },
   "outputs": [
    {
     "data": {
      "text/plain": [
       "'london reuter last flag fli comedydrama vietnam war veteran reson trump america despit perhap period set actor bryan cranston said sunday screen london film festiv set unit state decemb us forc iraq drag saddam hussein spider hole stori three age former servicemen reunit buri son one kill action presid donald trump say could total destroy north korea character dinner militari command calm storm cranston said last flag fli time remind effect normal american illadvis militari campaign think lot relev today sens today clear cut far intent govern militari cranston acclaim lead role tv drama break bad told reuter world war two good war clear present danger stop mad man sinc vietnam iraq lot question among troop citizen right thing purpos cast member bryan cranston r director richard linklat pose festiv director clair stewart arriv premier last flag fli british film institut bfi london film festiv odeon leicest squar london britain octob reutersafolabi sotund last flag fli produc amazon studio direct cowritten richard linklat whose greatest critic acclaim naturalist sunset trilog boyhood slew oscar nomin linklat also made comedi includ school rock everybodi want skirtchas undergradu last flag fli fall somewher two genr cast member bryan cranston r pose director richard linklat arriv premier last flag fli british film institut bfi london film festiv odeon leicest squar london britain octob reutersafolabi sotund drama comedi stem chemistri three lead play big hollywood name steve carel awkward shi one assum quiet withdrawn even loss son cranston play foulmouth harddrink bar owner best custom laurenc fishburn man found god becom evangel preacher prefer forget sex drug indulg back nam vaniti fair richard lawson said film abil honor footsoldi critic war sent fight could hit academi sweet spot satisfi conserv oldster younger leftier type critic said last flag fli lack light touch linklat best work guardian benjamin lee call halfbak tv movi masquerad oscarbait curiou misstep oscarnomin indi auteur write robin pomeroy edit david evan'"
      ]
     },
     "execution_count": 5,
     "metadata": {},
     "output_type": "execute_result"
    }
   ],
   "source": [
    "dataFrame['Body']= dataFrame['Body'].apply(textPreprocess)\n",
    "preprocessedText = dataFrame.copy()\n",
    "\n",
    "stemmer = PorterStemmer()\n",
    "textList = []\n",
    "\n",
    "for i in range(0, len(dataFrame)):\n",
    "    preprocessedText = re.sub('[^a-zA-Z]', ' ', dataFrame['Body'][i])\n",
    "    preprocessedText = preprocessedText.split()\n",
    "    preprocessedText = [stemmer.stem(word) for word in preprocessedText if not word in stopwords.words('english')]\n",
    "    preprocessedText = ' '.join(preprocessedText)\n",
    "    textList.append(preprocessedText)\n",
    "    \n",
    "# Example\n",
    "textList[1]"
   ]
  },
  {
   "cell_type": "code",
   "execution_count": 6,
   "id": "182a7b91",
   "metadata": {
    "execution": {
     "iopub.execute_input": "2024-06-11T09:46:42.360288Z",
     "iopub.status.busy": "2024-06-11T09:46:42.359870Z",
     "iopub.status.idle": "2024-06-11T09:46:53.549573Z",
     "shell.execute_reply": "2024-06-11T09:46:53.547968Z"
    },
    "papermill": {
     "duration": 11.199789,
     "end_time": "2024-06-11T09:46:53.552377",
     "exception": false,
     "start_time": "2024-06-11T09:46:42.352588",
     "status": "completed"
    },
    "tags": []
   },
   "outputs": [
    {
     "name": "stdout",
     "output_type": "stream",
     "text": [
      "(4009, 5000)\n"
     ]
    }
   ],
   "source": [
    "X=dataFrame.drop('Label',axis=1)\n",
    "y=dataFrame['Label']\n",
    "X.head()\n",
    "\n",
    "vector=TfidfVectorizer(max_features=5000,ngram_range=(1,3))\n",
    "X=vector.fit_transform(textList).toarray()\n",
    "\n",
    "print(X.shape)"
   ]
  },
  {
   "cell_type": "code",
   "execution_count": 7,
   "id": "232738a3",
   "metadata": {
    "execution": {
     "iopub.execute_input": "2024-06-11T09:46:53.566141Z",
     "iopub.status.busy": "2024-06-11T09:46:53.565729Z",
     "iopub.status.idle": "2024-06-11T09:46:54.365401Z",
     "shell.execute_reply": "2024-06-11T09:46:54.363927Z"
    },
    "papermill": {
     "duration": 0.809937,
     "end_time": "2024-06-11T09:46:54.368284",
     "exception": false,
     "start_time": "2024-06-11T09:46:53.558347",
     "status": "completed"
    },
    "tags": []
   },
   "outputs": [],
   "source": [
    "X_train, X_test, y_train, y_test = train_test_split(X, y, test_size=0.3, random_state=42)\n",
    "\n",
    "#up-sampling minority classes while avoiding overfitting by generating new synthetic examples close to the minority class in feature space.\n",
    "smote = SMOTE(sampling_strategy=1, random_state=42)\n",
    "X_train_resampled, y_train_resampled = smote.fit_resample(X_train, y_train)\n",
    "X_test_resampled, y_test_resampled = smote.fit_resample(X_test, y_test)"
   ]
  },
  {
   "cell_type": "code",
   "execution_count": 8,
   "id": "b3e53a41",
   "metadata": {
    "execution": {
     "iopub.execute_input": "2024-06-11T09:46:54.381886Z",
     "iopub.status.busy": "2024-06-11T09:46:54.381452Z",
     "iopub.status.idle": "2024-06-11T09:46:54.436800Z",
     "shell.execute_reply": "2024-06-11T09:46:54.435700Z"
    },
    "papermill": {
     "duration": 0.06509,
     "end_time": "2024-06-11T09:46:54.439403",
     "exception": false,
     "start_time": "2024-06-11T09:46:54.374313",
     "status": "completed"
    },
    "tags": []
   },
   "outputs": [
    {
     "name": "stdout",
     "output_type": "stream",
     "text": [
      "['aaron' 'aaron judg' 'aaron kesel' 'aaron rodger' 'ab' 'abandon' 'abc'\n",
      " 'abc news' 'abe' 'aberti' 'abil' 'abl' 'abort' 'abroad' 'absenc'\n",
      " 'absolut' 'abus' 'academ' 'academi' 'acc' 'acc network' 'acceler'\n",
      " 'accept' 'access' 'accid' 'accompani' 'accomplish' 'accord'\n",
      " 'accord report' 'account' 'account allsportsdacc'\n",
      " 'account allsportsdacc pleas' 'accur' 'accus' 'ace' 'achiev' 'acknowledg'\n",
      " 'acquir' 'acquisit' 'acr' 'across' 'across countri' 'act' 'action'\n",
      " 'activ' 'activist' 'activist post' 'actor' 'actress' 'actual']\n"
     ]
    },
    {
     "data": {
      "text/html": [
       "<div>\n",
       "<style scoped>\n",
       "    .dataframe tbody tr th:only-of-type {\n",
       "        vertical-align: middle;\n",
       "    }\n",
       "\n",
       "    .dataframe tbody tr th {\n",
       "        vertical-align: top;\n",
       "    }\n",
       "\n",
       "    .dataframe thead th {\n",
       "        text-align: right;\n",
       "    }\n",
       "</style>\n",
       "<table border=\"1\" class=\"dataframe\">\n",
       "  <thead>\n",
       "    <tr style=\"text-align: right;\">\n",
       "      <th></th>\n",
       "      <th>aaron</th>\n",
       "      <th>aaron judg</th>\n",
       "      <th>aaron kesel</th>\n",
       "      <th>aaron rodger</th>\n",
       "      <th>ab</th>\n",
       "      <th>abandon</th>\n",
       "      <th>abc</th>\n",
       "      <th>abc news</th>\n",
       "      <th>abe</th>\n",
       "      <th>aberti</th>\n",
       "      <th>...</th>\n",
       "      <th>your</th>\n",
       "      <th>your robot</th>\n",
       "      <th>your robot click</th>\n",
       "      <th>youth</th>\n",
       "      <th>youtub</th>\n",
       "      <th>zach</th>\n",
       "      <th>zapatista</th>\n",
       "      <th>zealand</th>\n",
       "      <th>zero</th>\n",
       "      <th>zone</th>\n",
       "    </tr>\n",
       "  </thead>\n",
       "  <tbody>\n",
       "    <tr>\n",
       "      <th>0</th>\n",
       "      <td>0.0</td>\n",
       "      <td>0.0</td>\n",
       "      <td>0.0</td>\n",
       "      <td>0.0</td>\n",
       "      <td>0.0</td>\n",
       "      <td>0.053152</td>\n",
       "      <td>0.0</td>\n",
       "      <td>0.0</td>\n",
       "      <td>0.0</td>\n",
       "      <td>0.0</td>\n",
       "      <td>...</td>\n",
       "      <td>0.0</td>\n",
       "      <td>0.0</td>\n",
       "      <td>0.0</td>\n",
       "      <td>0.0</td>\n",
       "      <td>0.0</td>\n",
       "      <td>0.0</td>\n",
       "      <td>0.0</td>\n",
       "      <td>0.000000</td>\n",
       "      <td>0.0</td>\n",
       "      <td>0.0</td>\n",
       "    </tr>\n",
       "    <tr>\n",
       "      <th>1</th>\n",
       "      <td>0.0</td>\n",
       "      <td>0.0</td>\n",
       "      <td>0.0</td>\n",
       "      <td>0.0</td>\n",
       "      <td>0.0</td>\n",
       "      <td>0.000000</td>\n",
       "      <td>0.0</td>\n",
       "      <td>0.0</td>\n",
       "      <td>0.0</td>\n",
       "      <td>0.0</td>\n",
       "      <td>...</td>\n",
       "      <td>0.0</td>\n",
       "      <td>0.0</td>\n",
       "      <td>0.0</td>\n",
       "      <td>0.0</td>\n",
       "      <td>0.0</td>\n",
       "      <td>0.0</td>\n",
       "      <td>0.0</td>\n",
       "      <td>0.046358</td>\n",
       "      <td>0.0</td>\n",
       "      <td>0.0</td>\n",
       "    </tr>\n",
       "    <tr>\n",
       "      <th>2</th>\n",
       "      <td>0.0</td>\n",
       "      <td>0.0</td>\n",
       "      <td>0.0</td>\n",
       "      <td>0.0</td>\n",
       "      <td>0.0</td>\n",
       "      <td>0.000000</td>\n",
       "      <td>0.0</td>\n",
       "      <td>0.0</td>\n",
       "      <td>0.0</td>\n",
       "      <td>0.0</td>\n",
       "      <td>...</td>\n",
       "      <td>0.0</td>\n",
       "      <td>0.0</td>\n",
       "      <td>0.0</td>\n",
       "      <td>0.0</td>\n",
       "      <td>0.0</td>\n",
       "      <td>0.0</td>\n",
       "      <td>0.0</td>\n",
       "      <td>0.000000</td>\n",
       "      <td>0.0</td>\n",
       "      <td>0.0</td>\n",
       "    </tr>\n",
       "    <tr>\n",
       "      <th>3</th>\n",
       "      <td>0.0</td>\n",
       "      <td>0.0</td>\n",
       "      <td>0.0</td>\n",
       "      <td>0.0</td>\n",
       "      <td>0.0</td>\n",
       "      <td>0.000000</td>\n",
       "      <td>0.0</td>\n",
       "      <td>0.0</td>\n",
       "      <td>0.0</td>\n",
       "      <td>0.0</td>\n",
       "      <td>...</td>\n",
       "      <td>0.0</td>\n",
       "      <td>0.0</td>\n",
       "      <td>0.0</td>\n",
       "      <td>0.0</td>\n",
       "      <td>0.0</td>\n",
       "      <td>0.0</td>\n",
       "      <td>0.0</td>\n",
       "      <td>0.000000</td>\n",
       "      <td>0.0</td>\n",
       "      <td>0.0</td>\n",
       "    </tr>\n",
       "    <tr>\n",
       "      <th>4</th>\n",
       "      <td>0.0</td>\n",
       "      <td>0.0</td>\n",
       "      <td>0.0</td>\n",
       "      <td>0.0</td>\n",
       "      <td>0.0</td>\n",
       "      <td>0.000000</td>\n",
       "      <td>0.0</td>\n",
       "      <td>0.0</td>\n",
       "      <td>0.0</td>\n",
       "      <td>0.0</td>\n",
       "      <td>...</td>\n",
       "      <td>0.0</td>\n",
       "      <td>0.0</td>\n",
       "      <td>0.0</td>\n",
       "      <td>0.0</td>\n",
       "      <td>0.0</td>\n",
       "      <td>0.0</td>\n",
       "      <td>0.0</td>\n",
       "      <td>0.000000</td>\n",
       "      <td>0.0</td>\n",
       "      <td>0.0</td>\n",
       "    </tr>\n",
       "  </tbody>\n",
       "</table>\n",
       "<p>5 rows × 5000 columns</p>\n",
       "</div>"
      ],
      "text/plain": [
       "   aaron  aaron judg  aaron kesel  aaron rodger   ab   abandon  abc  abc news  \\\n",
       "0    0.0         0.0          0.0           0.0  0.0  0.053152  0.0       0.0   \n",
       "1    0.0         0.0          0.0           0.0  0.0  0.000000  0.0       0.0   \n",
       "2    0.0         0.0          0.0           0.0  0.0  0.000000  0.0       0.0   \n",
       "3    0.0         0.0          0.0           0.0  0.0  0.000000  0.0       0.0   \n",
       "4    0.0         0.0          0.0           0.0  0.0  0.000000  0.0       0.0   \n",
       "\n",
       "   abe  aberti  ...  your  your robot  your robot click  youth  youtub  zach  \\\n",
       "0  0.0     0.0  ...   0.0         0.0               0.0    0.0     0.0   0.0   \n",
       "1  0.0     0.0  ...   0.0         0.0               0.0    0.0     0.0   0.0   \n",
       "2  0.0     0.0  ...   0.0         0.0               0.0    0.0     0.0   0.0   \n",
       "3  0.0     0.0  ...   0.0         0.0               0.0    0.0     0.0   0.0   \n",
       "4  0.0     0.0  ...   0.0         0.0               0.0    0.0     0.0   0.0   \n",
       "\n",
       "   zapatista   zealand  zero  zone  \n",
       "0        0.0  0.000000   0.0   0.0  \n",
       "1        0.0  0.046358   0.0   0.0  \n",
       "2        0.0  0.000000   0.0   0.0  \n",
       "3        0.0  0.000000   0.0   0.0  \n",
       "4        0.0  0.000000   0.0   0.0  \n",
       "\n",
       "[5 rows x 5000 columns]"
      ]
     },
     "execution_count": 8,
     "metadata": {},
     "output_type": "execute_result"
    }
   ],
   "source": [
    "features = vector.get_feature_names_out()[:50]\n",
    "print(features)\n",
    "count = pd.DataFrame(X_train_resampled, columns=vector.get_feature_names_out())\n",
    "count.head()"
   ]
  },
  {
   "cell_type": "code",
   "execution_count": 9,
   "id": "caa626ba",
   "metadata": {
    "execution": {
     "iopub.execute_input": "2024-06-11T09:46:54.453639Z",
     "iopub.status.busy": "2024-06-11T09:46:54.453189Z",
     "iopub.status.idle": "2024-06-11T09:46:54.459097Z",
     "shell.execute_reply": "2024-06-11T09:46:54.458015Z"
    },
    "papermill": {
     "duration": 0.016102,
     "end_time": "2024-06-11T09:46:54.461716",
     "exception": false,
     "start_time": "2024-06-11T09:46:54.445614",
     "status": "completed"
    },
    "tags": []
   },
   "outputs": [],
   "source": [
    "model1 = XGBClassifier(use_label_encoder=False, eval_metric='logloss')\n",
    "model2 = GaussianNB()\n",
    "model3 = RandomForestClassifier(n_estimators=100, random_state=42)"
   ]
  },
  {
   "cell_type": "code",
   "execution_count": 10,
   "id": "bef32623",
   "metadata": {
    "execution": {
     "iopub.execute_input": "2024-06-11T09:46:54.476284Z",
     "iopub.status.busy": "2024-06-11T09:46:54.475859Z",
     "iopub.status.idle": "2024-06-11T09:47:19.016499Z",
     "shell.execute_reply": "2024-06-11T09:47:19.015408Z"
    },
    "papermill": {
     "duration": 24.551097,
     "end_time": "2024-06-11T09:47:19.019266",
     "exception": false,
     "start_time": "2024-06-11T09:46:54.468169",
     "status": "completed"
    },
    "tags": []
   },
   "outputs": [],
   "source": [
    "ensemble_model = VotingClassifier(\n",
    "    estimators=[\n",
    "        ('xgb', model1),\n",
    "        ('nb', model2),\n",
    "        ('rf', model3)\n",
    "    ],\n",
    "    voting='soft'\n",
    ")\n",
    "\n",
    "ensemble_model.fit(X_train_resampled, y_train_resampled)\n",
    "y_pred = ensemble_model.predict(X_test_resampled)"
   ]
  },
  {
   "cell_type": "code",
   "execution_count": null,
   "id": "53e99e61",
   "metadata": {
    "papermill": {
     "duration": 0.005887,
     "end_time": "2024-06-11T09:47:19.031486",
     "exception": false,
     "start_time": "2024-06-11T09:47:19.025599",
     "status": "completed"
    },
    "tags": []
   },
   "outputs": [],
   "source": []
  }
 ],
 "metadata": {
  "kaggle": {
   "accelerator": "none",
   "dataSources": [
    {
     "datasetId": 6410,
     "sourceId": 9356,
     "sourceType": "datasetVersion"
    }
   ],
   "dockerImageVersionId": 30732,
   "isGpuEnabled": false,
   "isInternetEnabled": true,
   "language": "python",
   "sourceType": "notebook"
  },
  "kernelspec": {
   "display_name": "Python 3",
   "language": "python",
   "name": "python3"
  },
  "language_info": {
   "codemirror_mode": {
    "name": "ipython",
    "version": 3
   },
   "file_extension": ".py",
   "mimetype": "text/x-python",
   "name": "python",
   "nbconvert_exporter": "python",
   "pygments_lexer": "ipython3",
   "version": "3.10.13"
  },
  "papermill": {
   "default_parameters": {},
   "duration": 366.5101,
   "end_time": "2024-06-11T09:47:20.062857",
   "environment_variables": {},
   "exception": null,
   "input_path": "__notebook__.ipynb",
   "output_path": "__notebook__.ipynb",
   "parameters": {},
   "start_time": "2024-06-11T09:41:13.552757",
   "version": "2.5.0"
  }
 },
 "nbformat": 4,
 "nbformat_minor": 5
}
